{
 "cells": [
  {
   "cell_type": "code",
   "execution_count": null,
   "metadata": {},
   "outputs": [],
   "source": [
    "import numpy as np\n",
    "import xarray as xr\n",
    "import pickle\n",
    "import pandas as pd\n",
    "import time\n",
    "import os\n",
    "\n",
    "import datetime\n",
    "from sys import getsizeof,path\n",
    "\n",
    "\n",
    "import matplotlib.pyplot as plt\n",
    "import matplotlib\n",
    "\n",
    "import theano\n",
    "import theano.tensor as tt\n",
    "import pymc3 as pm\n",
    "theano.config.optimizer=\"fast_run\""
   ]
  },
  {
   "cell_type": "code",
   "execution_count": null,
   "metadata": {},
   "outputs": [],
   "source": [
    "path.append(\"../src\")\n",
    "import Bernstein\n",
    "import Population\n",
    "import Cases"
   ]
  },
  {
   "cell_type": "markdown",
   "metadata": {},
   "source": [
    "# Import age_stratified Casees from RKI source\n",
    "5y Age groups up to 90+ are available, unfortunately no sex / Bundesländer."
   ]
  },
  {
   "cell_type": "code",
   "execution_count": null,
   "metadata": {},
   "outputs": [],
   "source": [
    "age_cases10y,age_cases5y = Cases.RKI_Altersverteilung()\n",
    "age_cases5y.coords"
   ]
  },
  {
   "cell_type": "code",
   "execution_count": null,
   "metadata": {},
   "outputs": [],
   "source": [
    "# Sum of all cases per age Group\n",
    "max_week = max(age_cases5y.get_index(\"week\"))\n",
    "latest_cases = age_cases5y.sel(publication=age_cases5y.get_index(\"publication\")[0]).sel(week=range(10,max_week+1))\n",
    "\n",
    "plt.plot(latest_cases.get_index(\"age\"),latest_cases.sum(\"week\") ) \n",
    "plt.title(\"Cases in 5y agegroups\")\n",
    "\n",
    "print(max_week)"
   ]
  },
  {
   "cell_type": "code",
   "execution_count": null,
   "metadata": {},
   "outputs": [],
   "source": [
    "cases_adj = latest_cases.sel(age=[70,75,85,90])\n",
    "cases_80 = latest_cases.sel(age=80)\n",
    "\n",
    "rel = cases_adj/cases_80\n",
    "\n",
    "plt.plot(rel.get_index(\"week\"),rel.transpose(\"week\",\"age\"))\n",
    "plt.legend(rel.get_index(\"age\").values)\n",
    "plt.title(\"Age Groups relative to 80-84\")\n",
    "plt.xlabel(\"week of 2020\")\n",
    "\n",
    "plt.savefig(\"plots/AgeGroupsRelativeTo80_byWeeks.svg\")"
   ]
  },
  {
   "cell_type": "markdown",
   "metadata": {},
   "source": [
    "# Next Step: 1y age resolution\n",
    "Let's take a look at actual 1y age resolution 0-79 and the group 80+"
   ]
  },
  {
   "cell_type": "code",
   "execution_count": null,
   "metadata": {},
   "outputs": [],
   "source": [
    "with open(\"../Data/Cases/SurvStat_RKI/lks_210210.pickle\",\"br\") as f:\n",
    "    cases = Cases.ParseSurvStatDay_BL(pickle.load(f))"
   ]
  },
  {
   "cell_type": "code",
   "execution_count": null,
   "metadata": {},
   "outputs": [],
   "source": [
    "cases1y = cases.sum([\"category\",\"BL\",\"sex\"])\n",
    "cases1y.coords"
   ]
  },
  {
   "cell_type": "code",
   "execution_count": null,
   "metadata": {},
   "outputs": [],
   "source": [
    "cases1y_ws80 = cases1y.sum(\"week\").sel(age=80)\n",
    "cases1y_ws = cases1y.sel(week=[20,36,42,44,52,53]).sel(age=range(61,80))\n",
    "plt.plot(cases1y_ws.get_index(\"age\"),cases1y_ws/cases1y_ws.sel(age=79))\n",
    "plt.legend(cases1y_ws.get_index(\"week\"))\n",
    "\n",
    "plt.title(\"Age distribution relative to 79\")\n",
    "plt.xlabel(\"age\")"
   ]
  },
  {
   "cell_type": "code",
   "execution_count": null,
   "metadata": {},
   "outputs": [],
   "source": [
    "w10 = np.array([1/(x*x) for x in range(1,11)[::-1]],dtype=\"float64\")[:,np.newaxis]\n",
    "f10 = np.sum( (cases1y_ws.sel(age=range(70,80))*w10) ,axis=0)\n",
    "\n",
    "plt.plot(cases1y_ws.get_index(\"age\"),cases1y_ws/f10)\n",
    "plt.legend(cases1y_ws.get_index(\"week\"))\n",
    "\n",
    "plt.title(\"Age distribution relative to 70-79, weighted 1/x^2\")\n",
    "plt.xlabel(\"age\")"
   ]
  },
  {
   "cell_type": "code",
   "execution_count": null,
   "metadata": {},
   "outputs": [],
   "source": [
    "# Now scale 80+"
   ]
  },
  {
   "cell_type": "code",
   "execution_count": null,
   "metadata": {},
   "outputs": [],
   "source": []
  }
 ],
 "metadata": {
  "kernelspec": {
   "display_name": "Python 3",
   "language": "python",
   "name": "python3"
  },
  "language_info": {
   "codemirror_mode": {
    "name": "ipython",
    "version": 3
   },
   "file_extension": ".py",
   "mimetype": "text/x-python",
   "name": "python",
   "nbconvert_exporter": "python",
   "pygments_lexer": "ipython3",
   "version": "3.7.9"
  }
 },
 "nbformat": 4,
 "nbformat_minor": 4
}
