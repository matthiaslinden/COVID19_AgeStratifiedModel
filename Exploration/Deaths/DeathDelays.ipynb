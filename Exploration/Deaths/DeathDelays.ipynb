{
 "cells": [
  {
   "cell_type": "code",
   "execution_count": 1,
   "id": "alert-seventh",
   "metadata": {},
   "outputs": [],
   "source": [
    "import numpy as np\n",
    "import xarray as xr\n",
    "import pickle\n",
    "import pandas as pd\n",
    "import time\n",
    "import os\n",
    "\n",
    "import datetime\n",
    "from sys import getsizeof,path\n",
    "\n",
    "\n",
    "import matplotlib.pyplot as plt\n",
    "import matplotlib\n",
    "\n",
    "import theano\n",
    "import theano.tensor as tt\n",
    "import pymc3 as pm\n",
    "theano.config.optimizer=\"fast_run\""
   ]
  },
  {
   "cell_type": "code",
   "execution_count": 34,
   "id": "headed-poverty",
   "metadata": {},
   "outputs": [],
   "source": [
    "deaths = pd.read_csv(\"../../Data/Deaths/DeathsRKI_fromArcgis.csv\")\n",
    "\n",
    "for t in [\"TodesMeldedatum\",\"Meldedatum\",\"Refdatum\"]:\n",
    "    deaths[t] = pd.to_datetime(deaths[t])\n",
    "    "
   ]
  },
  {
   "cell_type": "code",
   "execution_count": 35,
   "id": "danish-thursday",
   "metadata": {},
   "outputs": [
    {
     "name": "stdout",
     "output_type": "stream",
     "text": [
      "           FID  IdLandkreis Geschlecht Altersgruppe  AnzahlFall  \\\n",
      "56        1901         3102          W         A80+           1   \n",
      "57        2399         5754          M      A60-A79           1   \n",
      "58        2803         5911          M      A60-A79           1   \n",
      "59        4376         5978          M         A80+           1   \n",
      "60        4476         6412          W      A35-A59           1   \n",
      "...        ...          ...        ...          ...         ...   \n",
      "89625  1909101        14628          W         A80+           1   \n",
      "89626  1960921        15084          M      A60-A79           1   \n",
      "89627  1973494        15087          M         A80+           1   \n",
      "89628  2026484        16065          M         A80+           1   \n",
      "89629  2076076        16077          M         A80+           1   \n",
      "\n",
      "       AnzahlTodesfall  NeuerFall  NeuerTodesfall Meldedatum  nTotd  \\\n",
      "56                   1          1               1 2020-03-26     86   \n",
      "57                   1          1               1 2020-03-26     86   \n",
      "58                   1          0               1 2020-03-21     86   \n",
      "59                   1          1               1 2020-03-27     86   \n",
      "60                   1          1               1 2020-03-26     86   \n",
      "...                ...        ...             ...        ...    ...   \n",
      "89625                1          1               1 2020-10-23    547   \n",
      "89626                1          0               1 2021-05-26    547   \n",
      "89627                1          0               1 2021-01-15    547   \n",
      "89628                1          0               1 2021-04-25    547   \n",
      "89629                1          0               1 2020-12-30    547   \n",
      "\n",
      "      TodesMeldedatum   Refdatum  IstErkrankungsbeginn  nMeld  nRefd  \n",
      "56         2020-03-28        NaT                   NaN     85    NaN  \n",
      "57         2020-03-28        NaT                   NaN     85    NaN  \n",
      "58         2020-03-28        NaT                   NaN     80    NaN  \n",
      "59         2020-03-28        NaT                   NaN     86    NaN  \n",
      "60         2020-03-28        NaT                   NaN     85    NaN  \n",
      "...               ...        ...                   ...    ...    ...  \n",
      "89625      2021-07-01 2020-10-23                   0.0    296  296.0  \n",
      "89626      2021-07-01 2021-05-26                   0.0    511  511.0  \n",
      "89627      2021-07-01 2021-01-15                   0.0    380  380.0  \n",
      "89628      2021-07-01 2021-04-22                   1.0    480  477.0  \n",
      "89629      2021-07-01 2020-12-30                   1.0    364  364.0  \n",
      "\n",
      "[89574 rows x 15 columns]\n"
     ]
    }
   ],
   "source": [
    "deaths = deaths[deaths[\"nTotd\"].notna() == True]\n",
    "\n",
    "deaths = deaths[deaths[\"nTotd\"] > 85]\n",
    "print(deaths)"
   ]
  },
  {
   "cell_type": "code",
   "execution_count": 44,
   "id": "raised-lotus",
   "metadata": {},
   "outputs": [],
   "source": [
    "deaths_erkb = deaths[deaths[\"IstErkrankungsbeginn\"] == 1.0]\n",
    "derk = deaths_erkb[\"nTotd\"]-deaths_erkb[\"nMeld\"]\n",
    "dmeld = deaths[\"nTotd\"]-deaths[\"nMeld\"]"
   ]
  },
  {
   "cell_type": "code",
   "execution_count": 56,
   "id": "polyphonic-bouquet",
   "metadata": {
    "scrolled": false
   },
   "outputs": [
    {
     "data": {
      "text/plain": [
       "(array([2863., 4061., 4729., 4655., 3497., 3040., 2122., 1701., 1378.,\n",
       "        1016.,  834.,  548.,  529.,  433.,  304.,  287.,  239.,  186.,\n",
       "         155.,  166.,  115.,  103.,   90.,   70.,   83.,   55.,   66.,\n",
       "          40.,   48.,   50.]),\n",
       " array([  0.,   4.,   8.,  12.,  16.,  20.,  24.,  28.,  32.,  36.,  40.,\n",
       "         44.,  48.,  52.,  56.,  60.,  64.,  68.,  72.,  76.,  80.,  84.,\n",
       "         88.,  92.,  96., 100., 104., 108., 112., 116., 120.]),\n",
       " <BarContainer object of 30 artists>)"
      ]
     },
     "execution_count": 56,
     "metadata": {},
     "output_type": "execute_result"
    },
    {
     "data": {
      "image/png": "[encoded data removed]",
      "text/plain": [
       "<Figure size 432x288 with 1 Axes>"
      ]
     },
     "metadata": {
      "needs_background": "light"
     },
     "output_type": "display_data"
    }
   ],
   "source": [
    "plt.hist(derk[derk <= 120],bins=30)\n",
    "\n",
    "#for i,row in enumerate(deaths.iterrows()):\n",
    " #   print(i,row[1])"
   ]
  },
  {
   "cell_type": "code",
   "execution_count": 55,
   "id": "preceding-technique",
   "metadata": {},
   "outputs": [
    {
     "data": {
      "text/plain": [
       "(array([ 9603., 11360., 12705., 12409.,  8940.,  7592.,  5271.,  4066.,\n",
       "         3173.,  2323.,  1978.,  1366.,  1252.,   962.,   748.,   654.,\n",
       "          516.,   443.,   362.,   410.,   309.,   247.,   219.,   178.,\n",
       "          196.,   139.,   153.,   102.,   108.,   126.]),\n",
       " array([  0.,   4.,   8.,  12.,  16.,  20.,  24.,  28.,  32.,  36.,  40.,\n",
       "         44.,  48.,  52.,  56.,  60.,  64.,  68.,  72.,  76.,  80.,  84.,\n",
       "         88.,  92.,  96., 100., 104., 108., 112., 116., 120.]),\n",
       " <BarContainer object of 30 artists>)"
      ]
     },
     "execution_count": 55,
     "metadata": {},
     "output_type": "execute_result"
    },
    {
     "data": {
      "image/png": "[encoded data removed]",
      "text/plain": [
       "<Figure size 432x288 with 1 Axes>"
      ]
     },
     "metadata": {
      "needs_background": "light"
     },
     "output_type": "display_data"
    }
   ],
   "source": [
    "plt.hist(dmeld[dmeld <= 120],bins=30)"
   ]
  },
  {
   "cell_type": "code",
   "execution_count": 57,
   "id": "disciplinary-premiere",
   "metadata": {},
   "outputs": [
    {
     "name": "stdout",
     "output_type": "stream",
     "text": [
      "4 5 2020 2020\n",
      "5 6 2020 2020\n",
      "6 7 2020 2020\n",
      "7 8 2020 2020\n",
      "8 9 2020 2020\n",
      "9 10 2020 2020\n",
      "10 11 2020 2020\n",
      "11 0 2020 2021\n",
      "0 1 2021 2021\n",
      "1 2 2021 2021\n",
      "2 3 2021 2021\n",
      "3 4 2021 2021\n",
      "4 5 2021 2021\n",
      "5 6 2021 2021\n"
     ]
    }
   ],
   "source": [
    "for mi in range(4,12+6):\n",
    "    m1,y1 = mi%12,mi//12+2020\n",
    "    m2,y2 = (mi+1)%12,(mi+1)//12+2020\n",
    "    print(m1,m2,y1,y2)"
   ]
  },
  {
   "cell_type": "code",
   "execution_count": 10,
   "id": "equivalent-rainbow",
   "metadata": {},
   "outputs": [
    {
     "name": "stdout",
     "output_type": "stream",
     "text": [
      "132\n"
     ]
    }
   ],
   "source": [
    "\n",
    "bonn = deaths[deaths[\"IdLandkreis\"] == 5314]\n",
    "bonn2021 = bonn[bonn[\"TodesMeldedatum\"] > datetime.datetime(2021,1,1)]\n",
    "\n",
    "print(bonn2021[\"NeuerTodesfall\"].sum())"
   ]
  },
  {
   "cell_type": "code",
   "execution_count": null,
   "id": "fallen-letter",
   "metadata": {},
   "outputs": [],
   "source": []
  }
 ],
 "metadata": {
  "kernelspec": {
   "display_name": "Python 3",
   "language": "python",
   "name": "python3"
  },
  "language_info": {
   "codemirror_mode": {
    "name": "ipython",
    "version": 3
   },
   "file_extension": ".py",
   "mimetype": "text/x-python",
   "name": "python",
   "nbconvert_exporter": "python",
   "pygments_lexer": "ipython3",
   "version": "3.7.10"
  }
 },
 "nbformat": 4,
 "nbformat_minor": 5
}
