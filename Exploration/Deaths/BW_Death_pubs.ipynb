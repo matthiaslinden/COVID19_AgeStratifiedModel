{
 "cells": [
  {
   "cell_type": "code",
   "execution_count": null,
   "id": "checked-bicycle",
   "metadata": {},
   "outputs": [],
   "source": [
    "import numpy as np\n",
    "import xarray as xr\n",
    "import pickle\n",
    "import pandas as pd\n",
    "import time\n",
    "import os\n",
    "\n",
    "import datetime\n",
    "from sys import getsizeof,path\n",
    "\n",
    "\n",
    "import matplotlib.pyplot as plt\n",
    "import matplotlib\n",
    "\n",
    "import theano\n",
    "import theano.tensor as tt\n",
    "import pymc3 as pm\n",
    "theano.config.optimizer=\"fast_run\"\n",
    "\n",
    "path.append(\"../../src\")\n",
    "path.append(\"../../Data/Bundeslaender/BW\")\n",
    "\n",
    "from BW_Deaths_ManualParser import BW_ReportedDeaths"
   ]
  },
  {
   "cell_type": "code",
   "execution_count": null,
   "id": "informed-meaning",
   "metadata": {
    "scrolled": false
   },
   "outputs": [],
   "source": [
    "deaths = BW_ReportedDeaths()"
   ]
  },
  {
   "cell_type": "code",
   "execution_count": null,
   "id": "stock-julian",
   "metadata": {},
   "outputs": [],
   "source": [
    "print(deaths.coords)\n",
    "print(deaths.shape)"
   ]
  },
  {
   "cell_type": "code",
   "execution_count": null,
   "id": "fundamental-convergence",
   "metadata": {},
   "outputs": [],
   "source": [
    "#plt.bar(deaths.coords[\"date\"],deaths.sel(publication=datetime.datetime(2021,1,3)))\n",
    "print(deaths.coords)"
   ]
  },
  {
   "cell_type": "code",
   "execution_count": null,
   "id": "prompt-connectivity",
   "metadata": {
    "scrolled": false
   },
   "outputs": [],
   "source": [
    "fig = plt.figure(figsize=(14,8))\n",
    "gs = fig.add_gridspec(1,1)\n",
    "\n",
    "ax = fig.add_subplot(gs[0,0])\n",
    "\n",
    "z = deaths.isel(publication=0)\n",
    "first = deaths.coords[\"date\"].values[0]\n",
    "color = plt.cm.plasma(np.array([range(7)])/6.)[0]\n",
    "\n",
    "for ipub,pub in enumerate(deaths.coords[\"publication\"][1:]):\n",
    "    p = pub.values\n",
    "    n = ((p-first) / np.timedelta64(1, 'D')).astype(\"int\")+10\n",
    "    dt = pd.to_datetime(p.astype(\"int\"))\n",
    "    \n",
    "    d = deaths.sel(publication=pub) - z\n",
    "    ax.bar(deaths.coords[\"date\"][:n],d[:n],bottom=z[:n],label=p,color=color[dt.weekday()])\n",
    "    z += d\n",
    "    \n",
    "print()   \n",
    "#ax.legend()\n",
    "plt.savefig(\"BW_deaths4.pdf\")"
   ]
  },
  {
   "cell_type": "code",
   "execution_count": null,
   "id": "applicable-stuff",
   "metadata": {},
   "outputs": [],
   "source": [
    "dd = deaths.diff(\"publication\",label=\"upper\").sel(date=datetime.datetime(2020,12,20))\n",
    "d = deaths.sel(date=datetime.datetime(2020,12,20))\n",
    "\n",
    "print(dd.shape,d.shape)\n",
    "print(dd)\n",
    "print(d)\n"
   ]
  },
  {
   "cell_type": "code",
   "execution_count": null,
   "id": "comparable-cylinder",
   "metadata": {},
   "outputs": [],
   "source": [
    "d = deaths.sel(publication=datetime.datetime(2020,3,11))\n",
    "print(d.shape)\n",
    "print(d)"
   ]
  },
  {
   "cell_type": "code",
   "execution_count": null,
   "id": "widespread-blood",
   "metadata": {},
   "outputs": [],
   "source": [
    "sdeaths = deaths.sel(date=slice(datetime.datetime(2020,1,1),datetime.datetime(2021,3,1)))\n",
    "\n",
    "z = np.zeros((7,60,),dtype=\"int32\")\n",
    "\n",
    "end = sdeaths.coords[\"publication\"][-1].values\n",
    "print(end)\n",
    "for dt in sdeaths.coords[\"date\"]:\n",
    "    dtv=dt.values\n",
    "    dtw = dt.dt.dayofweek.values\n",
    "    dz = sdeaths.sel(date=dtv,publication=slice(dtv,end)).values[:60] #.diff(\"publication\")\n",
    "    z[dtw] += dz\n",
    "    \n",
    "\n",
    "zn = z/z[:,-1:]\n",
    "for day in range(7):\n",
    "    plt.plot(range(day,day+len(zn[day])),zn[day])\n",
    "\n",
    "print(z.shape)\n",
    "\n",
    "tr = [.1,.2,1/3.,.5,.8,.9]\n",
    "print(tr)\n",
    "t = np.zeros((7,len(tr)),dtype=\"int32\")\n",
    "for i in range(60):\n",
    "    for j in range(7):\n",
    "        for k,r in enumerate(tr):\n",
    "            if zn[j,i] < r:\n",
    "                t[j,k] = i\n",
    "        \n",
    "print(t)"
   ]
  },
  {
   "cell_type": "code",
   "execution_count": null,
   "id": "raised-carolina",
   "metadata": {},
   "outputs": [],
   "source": [
    "for day in range(7):\n",
    "    znd = np.diff(zn[day])\n",
    "    \n",
    "    plt.plot(range(day,day+len(znd)),np.diff(zn[day]))\n"
   ]
  },
  {
   "cell_type": "code",
   "execution_count": null,
   "id": "dress-olive",
   "metadata": {},
   "outputs": [],
   "source": [
    "plt.plot(np.transpose(z))"
   ]
  },
  {
   "cell_type": "code",
   "execution_count": null,
   "id": "balanced-tobacco",
   "metadata": {},
   "outputs": [],
   "source": []
  },
  {
   "cell_type": "code",
   "execution_count": null,
   "id": "frank-turner",
   "metadata": {},
   "outputs": [],
   "source": []
  }
 ],
 "metadata": {
  "kernelspec": {
   "display_name": "Python 3",
   "language": "python",
   "name": "python3"
  },
  "language_info": {
   "codemirror_mode": {
    "name": "ipython",
    "version": 3
   },
   "file_extension": ".py",
   "mimetype": "text/x-python",
   "name": "python",
   "nbconvert_exporter": "python",
   "pygments_lexer": "ipython3",
   "version": "3.7.10"
  }
 },
 "nbformat": 4,
 "nbformat_minor": 5
}
