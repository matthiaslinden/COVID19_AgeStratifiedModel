{
 "cells": [
  {
   "cell_type": "code",
   "execution_count": 1,
   "id": "spanish-metro",
   "metadata": {},
   "outputs": [],
   "source": [
    "import numpy as np\n",
    "import xarray as xr\n",
    "import pickle\n",
    "import pandas as pd\n",
    "import time\n",
    "import os\n",
    "\n",
    "import datetime\n",
    "from sys import getsizeof,path\n",
    "\n",
    "\n",
    "import matplotlib.pyplot as plt\n",
    "import matplotlib\n",
    "\n",
    "import theano\n",
    "import theano.tensor as tt\n",
    "import pymc3 as pm\n",
    "theano.config.optimizer=\"fast_run\""
   ]
  },
  {
   "cell_type": "code",
   "execution_count": 2,
   "id": "selective-siemens",
   "metadata": {},
   "outputs": [],
   "source": [
    "path.append(\"../src\")\n",
    "import Bernstein\n",
    "import Population\n",
    "import Cases"
   ]
  },
  {
   "cell_type": "code",
   "execution_count": 11,
   "id": "operational-wichita",
   "metadata": {},
   "outputs": [],
   "source": [
    "ifgs = {}\n",
    "\n",
    "d = {}\n",
    "# 40% reported, Der Anteil der Fälle unter Personal in medizinischen Einrichtungen an allen übermittelten Fällen lag in der Kalenderwoche 17 bei mindestens 5,0% und ist in den letzten Wochen angestiegen (KW 12: 3,5%, KW 13: 4,7%, KW 14: 5,5%, KW 15: 6,7%, KW 16: 6,6%)\n",
    "d[23] = {\"patients\":{\"cases\":1726},\"worker\":{\"cases\":7575,\"hospital\":305,\"deaths\":14}}\n",
    "d[33] = {\"patients\":{\"cases\":1365},\"worker\":{\"cases\":2972}}\n",
    "d[36] = {\"patients\":{\"cases\":8899},\"worker\":{\"cases\":5832}}\n",
    "ifgs[datetime.date(2020,4,21)] = d\n",
    "\n",
    "d = {}\n",
    "# 41% of cases reported\n",
    "# §23 Personal m/w 28/72 agemedian 42\n",
    "d[23] = {\"patients\":{\"cases\":2043,\"deaths\":322},\"worker\":{\"cases\":9000,\"hospital\":391,\"deaths\":14}}\n",
    "d[33] = {\"patients\":{\"cases\":1532,\"deaths\":0},\"worker\":{\"cases\":1842,\"deaths\":5}}\n",
    "d[36] = {\"patients\":{\"cases\":11115,\"deaths\":2061},\"worker\":{\"cases\":6816,\"deaths\":24}}\n",
    "ifgs[datetime.date(2020,4,28)] = d\n",
    "\n",
    "d = {}\n",
    "# 41% of cases reported\n",
    "# §23 Personal m/w 28/72 agemedian 42\n",
    "d[23] = {\"patients\":{\"cases\":2276,\"hospital\":1481,\"deaths\":406},\"worker\":{\"cases\":10101,\"hospital\":442,\"deaths\":16}}\n",
    "d[33] = {\"patients\":{\"cases\":1664,\"hospital\":48,\"deaths\":1},\"worker\":{\"cases\":1999,\"hospital\":100,\"deaths\":7}}\n",
    "d[36] = {\"patients\":{\"cases\":12675,\"hospital\":2809,\"deaths\":2473},\"worker\":{\"cases\":7458,\"hospital\":301,\"deaths\":31}}\n",
    "ifgs[datetime.date(2020,5,5)] = d\n",
    "         \n",
    "d = {}\n",
    "d[23] = {\"patients\":{\"cases\":2522,\"hospital\":1670,\"deaths\":466},\"worker\":{\"cases\":11217,\"hospital\":502,\"deaths\":17}}\n",
    "d[33] = {\"patients\":{\"cases\":1833,\"hospital\":52,\"deaths\":1},\"worker\":{\"cases\":2203,\"hospital\":109,\"deaths\":7}}\n",
    "d[36] = {\"patients\":{\"cases\":13937,\"hospital\":3156,\"deaths\":2786},\"worker\":{\"cases\":8134,\"hospital\":335,\"deaths\":37}}\n",
    "ifgs[datetime.date(2020,5,12)] = d\n",
    "\n",
    "# ...\n",
    "\n",
    "d = {}\n",
    "d[23] = {\"patients\":{\"cases\":7978,\"cases60plus\":5311,\"hospital\":5103,\"deaths\":1019},\"worker\":{\"cases\":26680,\"cases60plus\":2083,\"hospital\":962,\"deaths\":25}}\n",
    "d[33] = {\"patients\":{\"cases\":27180,\"hospital\":305,\"deaths\":3},\"worker\":{\"cases\":12639,\"cases60plus\":963,\"hospital\":332,\"deaths\":10}}\n",
    "d[36] = {\"patients\":{\"cases\":33592,\"cases60plus\":23339,\"hospital\":6178,\"deaths\":4774},\"worker\":{\"cases\":18212,\"cases60plus\":2058,\"hospital\":627,\"deaths\":50}}\n",
    "ifgs[datetime.date(2020,11,24)] = d\n",
    "\n",
    "d = {}\n",
    "d[23] = {\"patients\":{\"cases\":8812,\"cases60plus\":5937,\"hospital\":5656,\"deaths\":1156},\"worker\":{\"cases\":29113,\"cases60plus\":2242,\"hospital\":1019,\"deaths\":27}}\n",
    "d[33] = {\"patients\":{\"cases\":30900,\"hospital\":335,\"deaths\":3},\"worker\":{\"cases\":14295,\"cases60plus\":1073,\"hospital\":355,\"deaths\":12}}\n",
    "d[36] = {\"patients\":{\"cases\":37731,\"cases60plus\":26587,\"hospital\":6794,\"deaths\":5292},\"worker\":{\"cases\":20256,\"cases60plus\":2333,\"hospital\":677,\"deaths\":55}}\n",
    "ifgs[datetime.date(2020,12,1)] = d\n",
    "\n",
    "d = {}\n",
    "d[23] = {\"patients\":{\"cases\":9742,\"cases60plus\":6649,\"hospital\":6213,\"deaths\":1293},\"worker\":{\"cases\":31890,\"cases60plus\":2472,\"hospital\":1103,\"deaths\":29}}\n",
    "d[33] = {\"patients\":{\"cases\":34410,\"hospital\":383,\"deaths\":3},\"worker\":{\"cases\":16063,\"cases60plus\":1231,\"hospital\":390,\"deaths\":13}}\n",
    "d[36] = {\"patients\":{\"cases\":42790,\"cases60plus\":30811,\"hospital\":7523,\"deaths\":5914},\"worker\":{\"cases\":22532,\"cases60plus\":2613,\"hospital\":726,\"deaths\":60}}\n",
    "ifgs[datetime.date(2020,12,8)] = d\n",
    "\n",
    "d = {}\n",
    "d[23] = {\"patients\":{\"cases\":10923,\"cases60plus\":7551,\"hospital\":6992,\"deaths\":1427},\"worker\":{\"cases\":35554,\"cases60plus\":2758,\"hospital\":1212,\"deaths\":33}}\n",
    "d[33] = {\"patients\":{\"cases\":38072,\"hospital\":423,\"deaths\":3},\"worker\":{\"cases\":18127,\"cases60plus\":1384,\"hospital\":423,\"deaths\":14}}\n",
    "d[36] = {\"patients\":{\"cases\":49272,\"cases60plus\":36199,\"hospital\":8325,\"deaths\":6721},\"worker\":{\"cases\":25469,\"cases60plus\":2964,\"hospital\":777,\"deaths\":69}}\n",
    "ifgs[datetime.date(2020,12,15)] = d\n",
    "\n",
    "d = {}\n",
    "d[23] = {\"patients\":{\"cases\":12453,\"cases60plus\":8732,\"hospital\":7920,\"deaths\":1614},\"worker\":{\"cases\":40028,\"cases60plus\":3086,\"hospital\":1308,\"deaths\":35}}\n",
    "d[33] = {\"patients\":{\"cases\":41783,\"hospital\":465,\"deaths\":3},\"worker\":{\"cases\":20300,\"cases60plus\":1589,\"hospital\":455,\"deaths\":16}}\n",
    "d[36] = {\"patients\":{\"cases\":57095,\"cases60plus\":42794,\"hospital\":9279,\"deaths\":7790},\"worker\":{\"cases\":28988,\"cases60plus\":3392,\"hospital\":840,\"deaths\":74}}\n",
    "ifgs[datetime.date(2020,12,22)] = d\n",
    "\n",
    "d = {}\n",
    "d[23] = {\"patients\":{\"cases\":13502,\"cases60plus\":9573,\"hospital\":8602,\"deaths\":1826},\"worker\":{\"cases\":43593,\"cases60plus\":3360,\"hospital\":1383,\"deaths\":42}}\n",
    "d[33] = {\"patients\":{\"cases\":43941,\"hospital\":484,\"deaths\":3},\"worker\":{\"cases\":21652,\"cases60plus\":1697,\"hospital\":478,\"deaths\":17}}\n",
    "d[36] = {\"patients\":{\"cases\":63049,\"cases60plus\":47999,\"hospital\":10020,\"deaths\":8719},\"worker\":{\"cases\":31657,\"cases60plus\":3709,\"hospital\":878,\"deaths\":91}}\n",
    "ifgs[datetime.date(2020,12,29)] = d\n",
    "    \n",
    "# ...\n",
    "         \n",
    "d = {}\n",
    "d[23] = {\"patients\":{\"cases\":21451,\"cases60plus\":15958,\"hospital\":14181,\"deaths\":3465},\"worker\":{\"cases\":65700,\"cases60plus\":4976,\"hospital\":1924,\"deaths\":65}}\n",
    "d[33] = {\"patients\":{\"cases\":54721,\"hospital\":581,\"deaths\":3},\"worker\":{\"cases\":28437,\"cases60plus\":2230,\"hospital\":585,\"deaths\":23}}\n",
    "d[36] = {\"patients\":{\"cases\":106209,\"cases60plus\":85963,\"hospital\":16497,\"deaths\":17800},\"worker\":{\"cases\":51229,\"cases60plus\":6091,\"hospital\":1241,\"deaths\":139}}\n",
    "ifgs[datetime.date(2021,2,9)] = d\n",
    "         \n",
    "# ...\n",
    "         \n",
    "d = {}\n",
    "d[23] = {\"patients\":{\"cases\":24993,\"cases60plus\":18717,\"hospital\":16954,\"deaths\":4267},\"worker\":{\"cases\":73402,\"cases60plus\":5555,\"hospital\":2123,\"deaths\":71}}\n",
    "d[33] = {\"patients\":{\"cases\":61534,\"hospital\":628,\"deaths\":2},\"worker\":{\"cases\":32049,\"cases60plus\":2502,\"hospital\":646,\"deaths\":26}}\n",
    "d[36] = {\"patients\":{\"cases\":116748,\"cases60plus\":94581,\"hospital\":18703,\"deaths\":20674},\"worker\":{\"cases\":56729,\"cases60plus\":6664,\"hospital\":1369,\"deaths\":158}}\n",
    "ifgs[datetime.date(2021,3,9)] = d"
   ]
  },
  {
   "cell_type": "code",
   "execution_count": 13,
   "id": "alive-colors",
   "metadata": {},
   "outputs": [
    {
     "name": "stdout",
     "output_type": "stream",
     "text": [
      "dict_keys([datetime.date(2020, 4, 21), datetime.date(2020, 4, 28), datetime.date(2020, 5, 5), datetime.date(2020, 5, 12), datetime.date(2020, 12, 8), datetime.date(2020, 12, 15), datetime.date(2020, 12, 22), datetime.date(2020, 12, 29), datetime.date(2021, 2, 9), datetime.date(2021, 3, 9)])\n"
     ]
    }
   ],
   "source": [
    "print(ifgs.keys())"
   ]
  },
  {
   "cell_type": "code",
   "execution_count": null,
   "id": "great-trick",
   "metadata": {},
   "outputs": [],
   "source": []
  }
 ],
 "metadata": {
  "kernelspec": {
   "display_name": "Python 3",
   "language": "python",
   "name": "python3"
  },
  "language_info": {
   "codemirror_mode": {
    "name": "ipython",
    "version": 3
   },
   "file_extension": ".py",
   "mimetype": "text/x-python",
   "name": "python",
   "nbconvert_exporter": "python",
   "pygments_lexer": "ipython3",
   "version": "3.7.10"
  }
 },
 "nbformat": 4,
 "nbformat_minor": 5
}
