{
 "cells": [
  {
   "cell_type": "code",
   "execution_count": 1,
   "id": "intense-blowing",
   "metadata": {},
   "outputs": [],
   "source": [
    "import numpy as np\n",
    "import xarray as xr\n",
    "import pickle\n",
    "import pandas as pd\n",
    "import time\n",
    "import os\n",
    "\n",
    "import datetime\n",
    "from sys import getsizeof,path\n",
    "\n",
    "\n",
    "import matplotlib.pyplot as plt\n",
    "import matplotlib\n",
    "\n",
    "import theano\n",
    "import theano.tensor as tt\n",
    "import pymc3 as pm\n",
    "theano.config.optimizer=\"fast_run\""
   ]
  },
  {
   "cell_type": "code",
   "execution_count": 2,
   "id": "retained-formula",
   "metadata": {},
   "outputs": [],
   "source": [
    "path.append(\"../src\")\n",
    "import Bernstein\n",
    "import Population\n",
    "import Cases"
   ]
  },
  {
   "cell_type": "code",
   "execution_count": null,
   "id": "confidential-volleyball",
   "metadata": {},
   "outputs": [],
   "source": []
  }
 ],
 "metadata": {
  "kernelspec": {
   "display_name": "Python 3",
   "language": "python",
   "name": "python3"
  },
  "language_info": {
   "codemirror_mode": {
    "name": "ipython",
    "version": 3
   },
   "file_extension": ".py",
   "mimetype": "text/x-python",
   "name": "python",
   "nbconvert_exporter": "python",
   "pygments_lexer": "ipython3",
   "version": "3.7.10"
  }
 },
 "nbformat": 4,
 "nbformat_minor": 5
}
