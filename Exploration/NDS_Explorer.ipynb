{
 "cells": [
  {
   "cell_type": "code",
   "execution_count": null,
   "metadata": {},
   "outputs": [],
   "source": [
    "import pandas as pd\n",
    "import xarray as xr\n",
    "import numpy as np\n",
    "\n",
    "import re\n",
    "import datetime\n",
    "import time\n",
    "\n",
    "import os\n",
    "\n",
    "import matplotlib.pyplot as plt\n",
    "import matplotlib\n",
    "\n",
    "from sys import getsizeof,path\n",
    "path.append(\"../src\")\n",
    "from Utility import DateFrom8digitName"
   ]
  },
  {
   "cell_type": "code",
   "execution_count": null,
   "metadata": {},
   "outputs": [],
   "source": [
    "\n",
    "\n",
    "def WeekOffset(y):\n",
    "    return {2020:0,2021:53,2022:52+53}[y]\n",
    "\n",
    "\n",
    "\n",
    "def RKI_AG_to_int(x):\n",
    "    return int(x.replace(\"+\",\"-\").split(\"-\")[0])\n",
    "\n",
    "def ParseAltersgruppe(fn):\n",
    "    df = pd.read_csv(fn,sep=\";\")\n",
    "    df[\"Altersgruppe\"] = df[\"Altersgruppe\"].map(RKI_AG_to_int)\n",
    "    f = {\"Altersgruppe\":\"age\",\"Geschlecht\":\"sex\",\"Anzahl Fälle\":\"cases\",\"Fälle vergangene 7 Tage\":\"cases7\",\"verstorbene Fälle\":\"deaths\"}\n",
    "    df.rename(columns=f,inplace=True)\n",
    "    df[\"sex\"] = df[\"sex\"].map(lambda x : {\"m\":\"male\",\"w\":\"female\",\"d\":\"divers\"}[x])\n",
    "    df = df.filter(f.values()).set_index([\"sex\",\"age\"])\n",
    "\n",
    "    xr = df.to_xarray().fillna(0).astype(\"int64\")\n",
    "    return DateFrom8digitName(fn),xr\n",
    "    \n",
    "\n",
    "def ParseWocheAlter(fn):\n",
    "    df = pd.read_csv(fn,sep=\";\")\n",
    "    df[\"Altersgruppe\"] = df[\"Altersgruppe\"].map(RKI_AG_to_int)\n",
    "    f = {\"Altersgruppe\":\"age\",\"Meldewoche\":\"week\",\"Jahr\":\"year\",\"Anzahl Fälle\":\"cases\"}\n",
    "    df.rename(columns=f,inplace=True)\n",
    "    \n",
    "    df[\"week\"] = df[\"week\"]+df[\"year\"].map(WeekOffset)\n",
    "    del df[\"year\"]\n",
    "    df = df.set_index([\"week\",\"age\"])\n",
    "\n",
    "    xr = df.to_xarray().fillna(0).astype(\"int64\")\n",
    "    return DateFrom8digitName(fn),xr\n",
    "\n",
    "def ImportNDS(d=\"Data\"):\n",
    "    files = sorted(os.listdir(d))\n",
    "\n",
    "    Altersgruppe = {}\n",
    "    Woche = {}\n",
    "\n",
    "    for fn in files[:]:\n",
    "        if fn[:25] == \"NDS_Covid19_Altersgruppe_\":\n",
    "            dt,x = ParseAltersgruppe(d+\"/\"+fn)\n",
    "            Altersgruppe[dt] = x\n",
    "        elif fn[:23] == \"NDS_Covid19_Woche_Alter\":\n",
    "            dt,x = ParseWocheAlter(d+\"/\"+fn)\n",
    "            Woche[dt] = x\n",
    "        else:\n",
    "            pass\n",
    "    \n",
    "    # concatenate xarrays by publication-date\n",
    "    data = {\"Altersgruppe\":Altersgruppe,\"Woche\":Woche}\n",
    "    for k,x in data.items():\n",
    "        data[k] = xr.concat(x.values(),pd.Index(x.keys(),name=\"publication\")).fillna(0).astype(\"int64\")\n",
    "    return data[\"Altersgruppe\"],data[\"Woche\"]\n",
    "    \n",
    "t0 = time.time()\n",
    "\n",
    "Altersgruppe,Woche = ImportNDS(\"../Data/Bundeslaender/NDS\")\n",
    "        \n",
    "t1 = time.time()\n",
    "print(\"in %.3f\"%(t1-t0))\n",
    "\n",
    "\n",
    "print(\"AG\",Altersgruppe.nbytes/1024,\"kB\")\n",
    "print(\"Woche\",Woche.nbytes/1024,\"kB\")\n",
    "\n",
    "print(Woche.coords)\n"
   ]
  },
  {
   "cell_type": "code",
   "execution_count": null,
   "metadata": {},
   "outputs": [],
   "source": [
    "latest_cases = Woche.sel(publication=datetime.datetime(2021,1,29))[\"cases\"]\n",
    "cases_adj = latest_cases.sel(age=[70,90])\n",
    "cases_80 = latest_cases.sel(age=80)\n",
    "\n",
    "\n",
    "rel = cases_adj/cases_80\n",
    "\n",
    "\n",
    "\n",
    "plt.plot(rel.get_index(\"week\"),rel.transpose(\"week\",\"age\"))\n",
    "plt.legend(rel.get_index(\"age\").values)\n",
    "plt.title(\"Age Groups relative to 80-84\")\n",
    "plt.xlabel(\"week of 2020\")\n",
    "\n",
    "plt.savefig(\"AgeGroupsRelativeTo80_byWeeks_NDS.svg\")"
   ]
  },
  {
   "cell_type": "code",
   "execution_count": null,
   "metadata": {},
   "outputs": [],
   "source": [
    "latest_deaths = Altersgruppe.sel(publication=datetime.datetime(2021,1,29))[\"deaths\"].sel(sex=[\"male\",\"female\"])\n",
    "plt.semilogy(latest_deaths.transpose(\"age\",\"sex\"))\n",
    "\n",
    "latest_cases = Altersgruppe.sel(publication=datetime.datetime(2021,1,29))[\"cases\"].sel(sex=[\"male\",\"female\"])\n",
    "plt.semilogy(latest_cases.transpose(\"age\",\"sex\"))"
   ]
  },
  {
   "cell_type": "code",
   "execution_count": null,
   "metadata": {},
   "outputs": [],
   "source": [
    "plt.plot(Altersgruppe.get_index(\"publication\")[:-1],Altersgruppe[\"deaths\"].sel(sex=[\"male\",\"female\"],age=70).transpose(\"publication\",\"sex\").diff(\"publication\"))"
   ]
  },
  {
   "cell_type": "code",
   "execution_count": null,
   "metadata": {},
   "outputs": [],
   "source": []
  },
  {
   "cell_type": "code",
   "execution_count": null,
   "metadata": {},
   "outputs": [],
   "source": []
  }
 ],
 "metadata": {
  "kernelspec": {
   "display_name": "Python 3",
   "language": "python",
   "name": "python3"
  },
  "language_info": {
   "codemirror_mode": {
    "name": "ipython",
    "version": 3
   },
   "file_extension": ".py",
   "mimetype": "text/x-python",
   "name": "python",
   "nbconvert_exporter": "python",
   "pygments_lexer": "ipython3",
   "version": "3.7.9"
  }
 },
 "nbformat": 4,
 "nbformat_minor": 4
}
