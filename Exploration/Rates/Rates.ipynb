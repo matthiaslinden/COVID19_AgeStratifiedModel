{
 "cells": [
  {
   "cell_type": "code",
   "execution_count": 1,
   "id": "mineral-influence",
   "metadata": {},
   "outputs": [],
   "source": [
    "import numpy as np\n",
    "import xarray as xr\n",
    "import pickle\n",
    "import pandas as pd\n",
    "import time\n",
    "import os\n",
    "\n",
    "\n",
    "import datetime\n",
    "from sys import getsizeof,path\n",
    "\n",
    "import matplotlib.pyplot as plt\n",
    "import matplotlib\n",
    "\n",
    "path.append(\"../../src\")\n",
    "from Splines import CentripetalCatmullRomSpline_splitControls,Spline\n",
    "import Cases"
   ]
  },
  {
   "cell_type": "code",
   "execution_count": 3,
   "id": "progressive-source",
   "metadata": {},
   "outputs": [],
   "source": [
    "with open(\"../../Data/Cases/SurvStat_RKI/lks_210816.pickle\",\"br\") as f:\n",
    "    observed_cases = Cases.ParseSurvStatDay_BL(pickle.load(f))\n"
   ]
  },
  {
   "cell_type": "code",
   "execution_count": 8,
   "id": "announced-lobby",
   "metadata": {},
   "outputs": [
    {
     "data": {
      "text/plain": [
       "Coordinates:\n",
       "  * BL       (BL) int8 1 2 3 4 5 6 7 8 9 10 11 12 13 14 15 16\n",
       "  * sex      (sex) <U7 'male' 'female' 'unknown'\n",
       "  * age      (age) int8 0 1 2 3 4 5 6 7 8 9 10 ... 71 72 73 74 75 76 77 78 79 80\n",
       "  * week     (week) int16 0 1 2 3 4 5 6 7 8 ... 100 101 102 103 104 105 106 107"
      ]
     },
     "execution_count": 8,
     "metadata": {},
     "output_type": "execute_result"
    }
   ],
   "source": [
    "for \n",
    "\n",
    "observed_cases.sum(\"category\").coords"
   ]
  },
  {
   "cell_type": "code",
   "execution_count": 55,
   "id": "occasional-bidder",
   "metadata": {
    "scrolled": false
   },
   "outputs": [
    {
     "ename": "AttributeError",
     "evalue": "module 'xarray' has no attribute 'combine'",
     "output_type": "error",
     "traceback": [
      "\u001b[0;31m---------------------------------------------------------------------------\u001b[0m",
      "\u001b[0;31mAttributeError\u001b[0m                            Traceback (most recent call last)",
      "\u001b[0;32m<ipython-input-55-8b7fdb93f48f>\u001b[0m in \u001b[0;36m<module>\u001b[0;34m\u001b[0m\n\u001b[1;32m     29\u001b[0m             \u001b[0mxframes\u001b[0m\u001b[0;34m[\u001b[0m\u001b[0mfdate\u001b[0m\u001b[0;34m]\u001b[0m \u001b[0;34m=\u001b[0m \u001b[0mxf\u001b[0m\u001b[0;34m\u001b[0m\u001b[0;34m\u001b[0m\u001b[0m\n\u001b[1;32m     30\u001b[0m \u001b[0;34m\u001b[0m\u001b[0m\n\u001b[0;32m---> 31\u001b[0;31m \u001b[0mxr\u001b[0m\u001b[0;34m.\u001b[0m\u001b[0mcombine\u001b[0m\u001b[0;34m\u001b[0m\u001b[0;34m\u001b[0m\u001b[0m\n\u001b[0m\u001b[1;32m     32\u001b[0m \u001b[0mprint\u001b[0m\u001b[0;34m(\u001b[0m\u001b[0mxr\u001b[0m\u001b[0;34m.\u001b[0m\u001b[0mDataArray\u001b[0m\u001b[0;34m(\u001b[0m\u001b[0mxframes\u001b[0m\u001b[0;34m)\u001b[0m\u001b[0;34m)\u001b[0m\u001b[0;34m\u001b[0m\u001b[0;34m\u001b[0m\u001b[0m\n",
      "\u001b[0;31mAttributeError\u001b[0m: module 'xarray' has no attribute 'combine'"
     ]
    }
   ],
   "source": [
    "directory = \"../../Data/Cases/SitRep_RKI\"\n",
    "xframes = {}\n",
    "last_xf = None\n",
    "for filename in sorted(os.listdir(directory),reverse=True):\n",
    "    if filename[:33] == \"Hospitalisierung_Altersverteilung\":\n",
    "        fdate = filename.split(\"_\")[-1].split(\".\")[0]\n",
    "        success = False\n",
    "        with open(directory+\"/\"+filename,\"r\") as f:\n",
    "            lines = f.readlines()\n",
    "\n",
    "            for i,line in enumerate(lines):\n",
    "                if \"Meldejahr\" in line:\n",
    "                    break\n",
    "            skip = 0\n",
    "            if lines[i][0] == \";\":\n",
    "                skip = 1\n",
    "            cols = range(skip,skip+8)\n",
    "            success = True\n",
    "        if success:\n",
    "            df = pd.read_csv(directory+\"/\"+filename,sep=\";\",header=i,usecols=cols,na_values=[\"\",\" \"])\n",
    "            rename = {df.columns[0]:\"year\",df.columns[1]:\"week\"}\n",
    "            rename[df.columns[2]] = \"A00..04\"\n",
    "            rename[df.columns[3]] = \"A05..14\"\n",
    "            rename[df.columns[4]] = \"A15..34\"\n",
    "            rename[df.columns[5]] = \"A35..59\"\n",
    "            rename[df.columns[6]] = \"A60..79\"\n",
    "            rename[df.columns[7]] = \"A80+\"\n",
    "            df = df.rename(columns=rename).fillna(0).astype(\"int32\")\n",
    "            xf = xr.DataArray(df)\n",
    "            xframes[fdate] = xf\n",
    "            \n",
    "            if last_xf == None:\n",
    "                last_xf = xf\n",
    "            else:\n",
    "                last_xf = last_xf.concat(,\"published\")\n",
    "\n",
    "#xr.combine\n",
    "#print(xr.DataArray(xframes))"
   ]
  },
  {
   "cell_type": "code",
   "execution_count": 23,
   "id": "practical-ocean",
   "metadata": {},
   "outputs": [
    {
     "data": {
      "text/plain": [
       "33"
      ]
     },
     "execution_count": 23,
     "metadata": {},
     "output_type": "execute_result"
    }
   ],
   "source": [
    "len(\"Hospitalisierung_Altersverteilung\")"
   ]
  },
  {
   "cell_type": "code",
   "execution_count": null,
   "id": "chronic-motivation",
   "metadata": {},
   "outputs": [],
   "source": []
  }
 ],
 "metadata": {
  "kernelspec": {
   "display_name": "Python 3",
   "language": "python",
   "name": "python3"
  },
  "language_info": {
   "codemirror_mode": {
    "name": "ipython",
    "version": 3
   },
   "file_extension": ".py",
   "mimetype": "text/x-python",
   "name": "python",
   "nbconvert_exporter": "python",
   "pygments_lexer": "ipython3",
   "version": "3.9.6"
  }
 },
 "nbformat": 4,
 "nbformat_minor": 5
}
