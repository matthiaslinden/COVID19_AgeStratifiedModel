{
 "cells": [
  {
   "cell_type": "code",
   "execution_count": 1,
   "metadata": {},
   "outputs": [],
   "source": [
    "import pandas as pd\n",
    "import xarray as xr\n",
    "import numpy as np\n",
    "\n",
    "import re\n",
    "import datetime\n",
    "import time\n",
    "\n",
    "import os\n",
    "\n",
    "import matplotlib.pyplot as plt\n",
    "import matplotlib\n",
    "\n",
    "from sys import getsizeof,path\n",
    "path.append(\"../src\")\n",
    "from Utility import DateFrom8digitName,RKI_AG_to_int"
   ]
  },
  {
   "cell_type": "code",
   "execution_count": null,
   "metadata": {},
   "outputs": [],
   "source": []
  },
  {
   "cell_type": "code",
   "execution_count": null,
   "metadata": {},
   "outputs": [],
   "source": []
  },
  {
   "cell_type": "code",
   "execution_count": 36,
   "metadata": {
    "scrolled": false
   },
   "outputs": [],
   "source": [
    "def NRW_ageGroups(fn):\n",
    "    df = pd.read_csv(fn,sep=\"\\t\",header=[1],thousands='.',decimal=\",\",na_values=\"-\")\n",
    "    \n",
    "    df = df.filter([\"Fälle\",\"Fälle.1\",\"Fälle.2\",\"Todesfälle\",\"Todesfälle.1\",\"Todesfälle.2\"])\n",
    "    df = df.fillna(0).iloc[:-2]\n",
    "    df = df.astype(\"int64\")\n",
    "    df.index.name=\"age\"\n",
    "    df.index = df.index.map(RKI_AG_to_int)\n",
    "    \n",
    "    f = {\"Fälle.1\":\"male\",\"Fälle.2\":\"female\",\"Todesfälle.1\":\"male\",\"Todesfälle.2\":\"female\",\"Fälle\":\"total\",\"Todefälle\":\"total\"}\n",
    "    df = df.rename(columns=f)\n",
    "#    df[\"divers\"] = df[\"total\"]-(df[\"male\"]+df[\"female\"])\n",
    "    \n",
    "    return df.to_xarray().to_array()\n",
    "\n",
    "def ImportNRW(d=\"../Data/Bundeslaender/NRW\"):\n",
    "    files = sorted(os.listdir(d))\n",
    "\n",
    "    Altersgruppe = {}\n",
    "    Woche = {}\n",
    "\n",
    "    for fn in files[:]:\n",
    "        dt = DateFrom8digitName(d+\"/\"+fn)\n",
    "        dfn = d+\"/\"+fn\n",
    "        if dt != None:\n",
    "            fid = fn.split(\"_\")[2]\n",
    "            if fid == \"Cases7dSum\":\n",
    "                pass\n",
    "            elif fid == \"CasesAGs\":\n",
    "                NRW_ageGroups(dfn)\n",
    "            elif fid == \"VerstorbeneAGs\":\n",
    "                NRW_ageGroups(dfn)\n",
    "            elif fid == \"Verstorbene\":\n",
    "                pass\n",
    "            else:\n",
    "                print(fn,dt)\n",
    "            \n",
    "        \n",
    "t0 = time.time()\n",
    "\n",
    "ImportNRW()\n",
    "        \n",
    "t1 = time.time()"
   ]
  },
  {
   "cell_type": "code",
   "execution_count": null,
   "metadata": {},
   "outputs": [],
   "source": []
  }
 ],
 "metadata": {
  "kernelspec": {
   "display_name": "Python 3",
   "language": "python",
   "name": "python3"
  },
  "language_info": {
   "codemirror_mode": {
    "name": "ipython",
    "version": 3
   },
   "file_extension": ".py",
   "mimetype": "text/x-python",
   "name": "python",
   "nbconvert_exporter": "python",
   "pygments_lexer": "ipython3",
   "version": "3.7.9"
  }
 },
 "nbformat": 4,
 "nbformat_minor": 4
}
