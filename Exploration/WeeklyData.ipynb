{
 "cells": [
  {
   "cell_type": "code",
   "execution_count": null,
   "id": "9bf29c6e",
   "metadata": {},
   "outputs": [],
   "source": [
    "import numpy as np\n",
    "import xarray as xr\n",
    "import pickle\n",
    "import pandas as pd\n",
    "import time\n",
    "import os\n",
    "\n",
    "from collections import OrderedDict\n",
    "\n",
    "import datetime\n",
    "from sys import getsizeof,path\n",
    "\n",
    "import matplotlib.pyplot as plt\n",
    "import matplotlib\n",
    "\n",
    "path.append(\"../src\")\n",
    "from Splines import CentripetalCatmullRomSpline_splitControls,Spline\n",
    "import Cases\n",
    "from Population import ImportPopulation\n",
    "from ModelParams import ObservedData,ModelParam\n",
    "\n"
   ]
  },
  {
   "cell_type": "code",
   "execution_count": null,
   "id": "43c8aaf1",
   "metadata": {},
   "outputs": [],
   "source": [
    "matplotlib.rcParams['figure.figsize'] = [12, 6]"
   ]
  },
  {
   "cell_type": "code",
   "execution_count": null,
   "id": "e14e4301",
   "metadata": {},
   "outputs": [],
   "source": [
    "df = pd.read_csv(\"../Data/Deaths/COVID-19_Todesfaelle_10y_210930.csv\",sep=\";\",na_values=\"<4\")\n",
    "df = df.fillna(2).astype(\"int64\")\n",
    "df.index = range(10,len(df)+10)\n",
    "\n",
    "f = {\"AG 90+ Jahre\":90}\n",
    "for i in range(9):\n",
    "    f[\"AG %d-%d Jahre\"%(i*10,i*10+9)] = i*10\n",
    "\n",
    "week_of_death = df.rename(columns=f)\n",
    "print(week_of_death)"
   ]
  },
  {
   "cell_type": "code",
   "execution_count": null,
   "id": "c5fda951",
   "metadata": {},
   "outputs": [],
   "source": [
    "week_of_death.filter([30,40,50,60,70,80,90]).plot()\n",
    "plt.xticks([1,14,27,40,54,66,79,92,53*2],labels=[2020,\"Q2\",\"Q3\",\"Q4\",2021,\"Q2\",\"Q3\",\"Q4\",2022])\n",
    "_ = plt.title(\"deaths by week of first case-report\")"
   ]
  },
  {
   "cell_type": "code",
   "execution_count": null,
   "id": "5b287b9f",
   "metadata": {},
   "outputs": [],
   "source": [
    "df = pd.read_csv(\"../Data/Cases/SitRep_RKI/Hospitalisierung_Altersverteilung_210930.csv\",sep=\";\",header=4)\n",
    "#df = df.astype(\"int64\")\n",
    "\n",
    "f = {\"Fälle A00..04\":0,\"Fälle A05..14\":5,\"Fälle A15..34\":15,\"Fälle A35..59\":35,\"Fälle A60..79\":60,\"Fälle A80+\":80}\n",
    "df = df.rename(columns=f)\n",
    "df.index = range(10,len(df)+10)\n",
    "meldedatum_hospitalization = df.filter([\"Meldejahr\",\"Meldewoche\"]+list(f.values())).fillna(0).astype(\"int64\")\n",
    "\n",
    "meldedatum_hospitalization.filter([0,5,15,35,60,80]).plot()\n",
    "plt.xticks([1,14,27,40,54,66,79,92,53*2],labels=[2020,\"Q2\",\"Q3\",\"Q4\",2021,\"Q2\",\"Q3\",\"Q4\",2022])\n",
    "plt.title(\"Hospitalizations by week of first case-report (Meldedatum)\")\n",
    "\n",
    "print(meldedatum_hospitalization)"
   ]
  },
  {
   "cell_type": "code",
   "execution_count": null,
   "id": "13b543ea",
   "metadata": {},
   "outputs": [],
   "source": [
    "plt.plot(meldedatum_hospitalization.filter([60]),\"--\",color=\"tab:red\",label=\"hospitalizations 60-79\")\n",
    "plt.plot(meldedatum_hospitalization.filter([80]),color=\"tab:red\",label=\"hospitalizations 80+\")\n",
    "\n",
    "plt.plot(week_of_death[60]+week_of_death[70],\"--\",color=\"tab:blue\",label=\"deaths 60-79\")\n",
    "plt.plot(week_of_death[80]+week_of_death[90],color=\"tab:blue\",label=\"deaths 80+\")\n",
    "#plt.plot(week_of_death.filter([80]),color=\"tab:blue\")\n",
    "plt.title(\"Comparison of Hospitalizations and deaths by week of first case-report (Meldedatum)\")\n",
    "plt.legend()\n",
    "_ = plt.xticks([1,14,27,40,54,66,79,92,53*2],labels=[2020,\"Q2\",\"Q3\",\"Q4\",2021,\"Q2\",\"Q3\",\"Q4\",2022])"
   ]
  },
  {
   "cell_type": "code",
   "execution_count": null,
   "id": "144c8454",
   "metadata": {},
   "outputs": [],
   "source": [
    "path.append(\"../Data/Deaths/SitRep_RKI\")\n",
    "from CopiedData import DeathsPerAG"
   ]
  },
  {
   "cell_type": "code",
   "execution_count": null,
   "id": "91e8a0a9",
   "metadata": {},
   "outputs": [],
   "source": [
    "# cuml. reportet death at each tuesday\n",
    "DeathsPerAG()"
   ]
  },
  {
   "cell_type": "code",
   "execution_count": null,
   "id": "d31cbf73",
   "metadata": {},
   "outputs": [],
   "source": [
    "df = pd.read_csv(\"../Data/Deaths/DeathsRKI_fromArcgis.csv\",sep=\",\",parse_dates=[\"Meldedatum\",\"Refdatum\",\"TodesMeldedatum\"])\n",
    "df = df.filter([\"Altersgruppe\",\"Geschlecht\",\"AnzahlFall\",\"AnzahlTodesfall\",\"TodesMeldedatum\"])\n",
    "\n",
    "for k,v in zip((\"A00-A04\",\"A05-A14\",\"A15-34\",\"A35-A59\",\"A60-A79\",\"A80+\"),(0,5,15,35,60,80)):\n",
    "    ages[k] = v\n",
    "data = np.zeros((n,2,len(ages),),dtype=\"int64\")\n",
    "\n",
    "weeks = pd.date_range(\"2019-12-30\", periods=n, freq=\"W-MON\")\n",
    "for i,w1,w2 in zip(range(0,n),weeks[:-1],weeks[1:]):\n",
    "    wmask = (df[\"TodesMeldedatum\"] >= w1) & (df[\"TodesMeldedatum\"] < w2)\n",
    "    reported_deaths_in_week = df[wmask]\n",
    "    \n",
    "    for j,sex in enumerate([\"M\",\"W\"]):\n",
    "        reported_deaths_in_week_sex = reported_deaths_in_week[reported_deaths_in_week[\"Geschlecht\"]==sex]\n",
    "        for k,age in enumerate(ages.keys()):\n",
    "            reported_deaths_in_week_sex_age = reported_deaths_in_week_sex[reported_deaths_in_week_sex[\"Altersgruppe\"]==age]\n",
    "            deaths = reported_deaths_in_week_sex_age[\"AnzahlTodesfall\"].sum()\n",
    "            data[i,j,k] = deaths\n",
    "\n",
    "reported_deaths = xr.DataArray(data,dims=[\"week\",\"sex\",\"age\"],coords={\"week\":range(1,n+1),\"sex\":[\"M\",\"W\"],\"age\":list(ages.values())})"
   ]
  },
  {
   "cell_type": "code",
   "execution_count": null,
   "id": "8364be91",
   "metadata": {},
   "outputs": [],
   "source": [
    "reported_deaths.sum(\"sex\").sel(week=range(10,92))"
   ]
  },
  {
   "cell_type": "code",
   "execution_count": null,
   "id": "89aae786",
   "metadata": {},
   "outputs": [],
   "source": [
    "df = pd.read_csv(\"../Data/Cases/RKI_COVID19_211005.csv\",sep=\",\",parse_dates=[\"Meldedatum\",\"Refdatum\"])\n",
    "df = df.filter([\"Altersgruppe\",\"Geschlecht\",\"AnzahlFall\",\"AnzahlTodesfall\",\"Meldedatum\",\"Refdatum\",\"IstErkrankungsbeginn\"])"
   ]
  },
  {
   "cell_type": "code",
   "execution_count": null,
   "id": "b0278b35",
   "metadata": {},
   "outputs": [],
   "source": [
    "n = 110\n",
    "ages = OrderedDict()\n",
    "for k,v in zip((\"A00-A04\",\"A05-A14\",\"A15-34\",\"A35-A59\",\"A60-A79\",\"A80+\"),(0,5,15,35,60,80)):\n",
    "    ages[k] = v\n",
    "data = np.zeros((n,2,len(ages),2,),dtype=\"int64\")\n",
    "\n",
    "weeks = pd.date_range(\"2019-12-30\", periods=n, freq=\"W-MON\")\n",
    "for i,w1,w2 in zip(range(0,n),weeks[:-1],weeks[1:]):\n",
    "    wmask = (df[\"Meldedatum\"] >= w1) & (df[\"Meldedatum\"] < w2)\n",
    "    if True:#i == 20:\n",
    "        cases_in_week = df[wmask]\n",
    "        for j,sex in enumerate([\"M\",\"W\"]):\n",
    "            cases_in_week_sex = cases_in_week[cases_in_week[\"Geschlecht\"]==sex]\n",
    "            for k,age in enumerate(ages.keys()):\n",
    "                cases_in_week_sex_age = cases_in_week_sex[cases_in_week_sex[\"Altersgruppe\"]==age]\n",
    "                cases,deaths = cases_in_week_sex_age[\"AnzahlFall\"].sum(),cases_in_week_sex_age[\"AnzahlTodesfall\"].sum()\n",
    "                data[i,j,k] = [cases,deaths]\n",
    "\n",
    "cases = xr.DataArray(data,dims=[\"week\",\"sex\",\"age\",\"status\"],coords={\"week\":range(1,n+1),\"sex\":[\"M\",\"W\"],\"age\":list(ages.values()),\"status\":[\"cases\",\"deaths\"]})\n"
   ]
  },
  {
   "cell_type": "code",
   "execution_count": null,
   "id": "b830165a",
   "metadata": {},
   "outputs": [],
   "source": [
    "meldedatum_hospitalization[60].sum()\n",
    "cases.sum(\"sex\").sel(age=60,status=\"cases\",week=range(10,92))"
   ]
  },
  {
   "cell_type": "code",
   "execution_count": null,
   "id": "33f0309c",
   "metadata": {},
   "outputs": [],
   "source": [
    "meldedatum_hospitalization[60]"
   ]
  },
  {
   "cell_type": "code",
   "execution_count": null,
   "id": "5ad72506",
   "metadata": {},
   "outputs": [],
   "source": [
    "df = pd.read_csv(\"../Data/ICU/DIVI/bund-altersstruktur-zeitreihe_210930.csv\",sep=\",\",parse_dates=[\"Datum\"],index_col=[\"Datum\"])\n",
    "df.index = df.index.tz_convert(None)\n",
    "df = df.resample(\"W-MON\").max()\n",
    "df = df[df[\"Stratum_Unbekannt\"]<200]\n",
    "startweek = df.index[0].week+53\n",
    "df.index = range(startweek,startweek+len(df))\n",
    "f = OrderedDict()\n",
    "f[\"Stratum_17_Minus\"] = 0\n",
    "f[\"Stratum_18_Bis_29\"] = 18\n",
    "f[\"Stratum_30_Bis_39\"] = 30\n",
    "f[\"Stratum_40_Bis_49\"] = 40\n",
    "f[\"Stratum_50_Bis_59\"] = 50\n",
    "f[\"Stratum_60_Bis_69\"] = 60\n",
    "f[\"Stratum_70_Bis_79\"] = 70\n",
    "f[\"Stratum_80_Plus\"] = 80\n",
    "week_icu_max = df.rename(columns=f).filter(f.values())"
   ]
  },
  {
   "cell_type": "code",
   "execution_count": null,
   "id": "e97e6096",
   "metadata": {},
   "outputs": [],
   "source": [
    "week_icu_max.plot()\n",
    "_ = plt.title(\"patients in ICU, weekly max.\")"
   ]
  },
  {
   "cell_type": "code",
   "execution_count": null,
   "id": "4afc82c6",
   "metadata": {},
   "outputs": [],
   "source": [
    "# Change to generate different plots\n",
    "age = 35\n",
    "\n",
    "lastweek = meldedatum_hospitalization.index[-1]\n",
    "print(\"AgeGroup starting\",age,\"until week\",lastweek)\n",
    "c = cases.sum(\"sex\").sel(age=age,week=range(1,lastweek+1))\n",
    "plt.plot(c.coords[\"week\"],c.sel(status=\"deaths\")/c.sel(status=\"cases\"),color=\"black\",label=\"fraction deaths\")\n",
    "frac_hospital = meldedatum_hospitalization[age]/c.sel(status=\"cases\",week=range(10,92))\n",
    "\n",
    "plt.plot(range(10,92),frac_hospital,color=\"tab:blue\",label=\"fraction hospitalized\")\n",
    "\n",
    "plt.fill_between([lastweek-3,lastweek],[0,0],[np.max(frac_hospital)]*2,alpha=.2,color=\"grey\")\n",
    "\n",
    "plt.xticks([1,14,27,40,54,66,79,92,53*2],labels=[2020,\"Q2\",\"Q3\",\"Q4\",2021,\"Q2\",\"Q3\",\"Q4\",2022])\n",
    "plt.title(\"CFR and case-hospitalization rate in AG %d by Meldedatum\"%age)\n",
    "plt.ylabel(\"fraction\")\n",
    "plt.savefig(\"plots/fraction_AG%d.pdf\"%age)\n",
    "_ = plt.legend()"
   ]
  },
  {
   "cell_type": "code",
   "execution_count": null,
   "id": "31801e8f",
   "metadata": {},
   "outputs": [],
   "source": [
    "plt.semilogy(range(1,lastweek+1),cases.sum(\"sex\").sel(age=age,status=\"cases\",week=range(1,lastweek+1)),color=\"tab:red\",label=\"cases\")\n",
    "plt.semilogy(range(1,lastweek+1),cases.sum(\"sex\").sel(age=age,status=\"deaths\",week=range(1,lastweek+1)),color=\"black\",label=\"deaths\")\n",
    "plt.semilogy(meldedatum_hospitalization[age],color=\"tab:blue\",label=\"hospitalizations\")\n",
    "if age == 80:\n",
    "    wod = week_of_death[80]+week_of_death[90]\n",
    "    icu = week_icu_max[80]\n",
    "elif age == 60:\n",
    "    wod = week_of_death[60]+week_of_death[70]\n",
    "    icu = week_icu_max[60]+week_icu_max[70]\n",
    "elif age == 35:\n",
    "    wod = week_of_death[30]+week_of_death[40]+week_of_death[50]\n",
    "    icu = week_icu_max[40]+week_icu_max[50]+week_icu_max[30]\n",
    "plt.semilogy(range(10,90),wod,\"k--\",label=\"deaths (date of death)\")\n",
    "plt.semilogy(range(10,lastweek),reported_deaths.sel(week=range(10,lastweek),age=age).sum(\"sex\"),\"-\",color=\"grey\",label=\"deaths (reporting)\")\n",
    "plt.semilogy(icu.index,icu,\"purple\",label=\"in ICU (weekly max)\")\n",
    "\n",
    "plt.xticks([1,14,27,40,54,66,79,92,53*2],labels=[2020,\"Q2\",\"Q3\",\"Q4\",2021,\"Q2\",\"Q3\",\"Q4\",2022])\n",
    "plt.fill_between([wod.index[-2],wod.index[-1]+2],[1,1],[np.max(cases.sum(\"sex\").sel(age=age))]*2,alpha=.2,color=\"grey\")\n",
    "for x in [14,79,69,44]:\n",
    "    plt.plot([x,x],[1,20000],\"-\",alpha=.5,color=\"green\")\n",
    "plt.legend()\n",
    "plt.ylabel(\"cases in status\")\n",
    "plt.title(\"weekly number of cases by Meldedatum in AG %d\"%age)\n",
    "plt.savefig(\"plots/casesAndStatus_AG%d.pdf\"%age)"
   ]
  }
 ],
 "metadata": {
  "kernelspec": {
   "display_name": "Python 3 (ipykernel)",
   "language": "python",
   "name": "python3"
  },
  "language_info": {
   "codemirror_mode": {
    "name": "ipython",
    "version": 3
   },
   "file_extension": ".py",
   "mimetype": "text/x-python",
   "name": "python",
   "nbconvert_exporter": "python",
   "pygments_lexer": "ipython3",
   "version": "3.9.7"
  }
 },
 "nbformat": 4,
 "nbformat_minor": 5
}
