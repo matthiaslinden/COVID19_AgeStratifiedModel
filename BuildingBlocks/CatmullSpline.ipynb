{
 "cells": [
  {
   "cell_type": "code",
   "execution_count": 1,
   "metadata": {},
   "outputs": [],
   "source": [
    "import numpy as np\n",
    "import xarray as xr\n",
    "import pickle\n",
    "import pandas as pd\n",
    "import time\n",
    "import os\n",
    "\n",
    "import datetime\n",
    "from sys import getsizeof,path\n",
    "\n",
    "\n",
    "import matplotlib.pyplot as plt\n",
    "import matplotlib\n",
    "\n",
    "import theano\n",
    "import theano.tensor as tt\n",
    "import pymc3 as pm\n",
    "theano.config.optimizer=\"fast_run\""
   ]
  },
  {
   "cell_type": "code",
   "execution_count": 158,
   "metadata": {},
   "outputs": [
    {
     "name": "stdout",
     "output_type": "stream",
     "text": [
      "[[ 1  5  5]\n",
      " [ 4  3  2]\n",
      " [ 3  4  2]\n",
      " [ 2 -1  1]]\n",
      "[]\n"
     ]
    },
    {
     "data": {
      "text/plain": [
       "[<matplotlib.lines.Line2D at 0x14152dcd0>,\n",
       " <matplotlib.lines.Line2D at 0x14152dd50>,\n",
       " <matplotlib.lines.Line2D at 0x14152d650>]"
      ]
     },
     "execution_count": 158,
     "metadata": {},
     "output_type": "execute_result"
    },
    {
     "data": {
      "image/png": "[encoded data removed]",
      "text/plain": [
       "<Figure size 432x288 with 1 Axes>"
      ]
     },
     "metadata": {
      "needs_background": "light"
     },
     "output_type": "display_data"
    }
   ],
   "source": [
    "def CatmullRomSpline(cp,space,alpha=.5):\n",
    "    # Centripetal at alpha = .5\n",
    "    \n",
    "    # t-space\n",
    "    def tj(ti,p1,p2):\n",
    "        d = p2-p1\n",
    "        dd = tt.dot(d,d)\n",
    "        return tt.pow(dd,alpha/1)+ti\n",
    "    t0 = 0\n",
    "    t1 = tj(t0,cp[0],cp[1])\n",
    "    t2 = tj(t1,cp[1],cp[2])\n",
    "    t3 = tj(t2,cp[2],cp[3])\n",
    "    # map evaluation space\n",
    "    space1 = (space-cp[1,0])/(cp[2,0]-cp[1,0])\n",
    "    tspace = ( t1 + space1*(t2-t1) ).dimshuffle('x',0)\n",
    "    \n",
    "    # broadcast\n",
    "    p = cp[:,1:].dimshuffle(0,1,'x')\n",
    "    \n",
    "    A1 = p[0] * (t1-tspace)/(t1-t0) + p[1] * (tspace-t0)/(t1-t0)\n",
    "    A2 = p[1] * (t2-tspace)/(t2-t1) + p[2] * (tspace-t1)/(t2-t1)\n",
    "    A3 = p[2] * (t3-tspace)/(t3-t2) + p[3] * (tspace-t2)/(t3-t2)\n",
    "    B1 = (t2-tspace)/(t2-t0)*A1 + (tspace-t0)/(t2-t0)*A2\n",
    "    B2 = (t3-tspace)/(t3-t1)*A2 + (tspace-t1)/(t3-t1)*A3\n",
    "    C = (t2-tspace)/(t2-t1)*B1 + (tspace-t1)/(t2-t1)*B2\n",
    "    return C\n",
    "\n",
    "def SplineFromPositionsAndValues(control_values,control_points,space):\n",
    "    # values and control_points have to have same 2nd dimension \n",
    "    # dimension of control_values = (4,n) for n control-points\n",
    "    # dimension of control_poinst = 4 (positions)\n",
    "    cp = tt.concatenate([tt.cast(control_points,\"float32\").dimshuffle(0,\"x\"),control_values],axis=1)\n",
    "    return CatmullRomSpline(cp,space)\n",
    "    \n",
    "ct = np.array([-1.5,1,3,3.5],dtype=\"float32\")\n",
    "cp = np.array([[1,5,5],[4,3,2],[3,4,2],[2,-1,1]])\n",
    "#cp = np.array([[-1,1],[1,4],[3,3],[4,3]])\n",
    "\n",
    "ctt = tt.cast(ct,\"float32\")\n",
    "cpt = tt.cast(cp,\"float32\")\n",
    "#c = tt.concatenate([ct,cpt],axis=1)\n",
    "\n",
    "#print(c.eval())\n",
    "\n",
    "s = []#[1,1.1,1.2,1.5,1.8,1.9,2,2.5,2.7,3]\n",
    "st = tt.cast(s,\"float32\")\n",
    "\n",
    "#ccrs = CentripetalCatmullRomSpline(c,st).eval()\n",
    "ccrs = SplineFrom(cp,ct,st).eval()\n",
    "\n",
    "print(ccrs)\n",
    "\n",
    "plt.plot(s,ccrs.transpose(1,0))\n",
    "plt.plot(ct,cp)"
   ]
  },
  {
   "cell_type": "code",
   "execution_count": 184,
   "metadata": {},
   "outputs": [
    {
     "data": {
      "text/plain": [
       "([(array([0, 1, 2, 3, 4]),),\n",
       "  (array([5]),),\n",
       "  (array([], dtype=int64),),\n",
       "  (array([6, 7, 8]),),\n",
       "  (array([ 9, 10, 11, 12, 13, 14]),)],\n",
       " [array([0. , 0.1, 0.2, 0.3, 1. ]),\n",
       "  array([2.2]),\n",
       "  array([], dtype=float64),\n",
       "  array([6.1, 6.8, 7. ]),\n",
       "  array([ 9.1,  9.2,  9.3, 10. , 11. , 11.9])])"
      ]
     },
     "execution_count": 184,
     "metadata": {},
     "output_type": "execute_result"
    }
   ],
   "source": [
    "# position of control points\n",
    "ct = [-2,0,2,4,6,8,12,14]\n",
    "cv = [1,2,3,6,6,7,3,1]\n",
    "\n",
    "# evaluate at\n",
    "et = np.array([0,.1,.2,.3,1.,2.2,6.1,6.8,7,9.1,9.2,9.3,10,11,11.9])\n",
    "\n",
    "def SplitSpaceByControlPoints(control_points,evaluation_points):\n",
    "    \"\"\"\n",
    "    \"\"\"\n",
    "    cp,ep = control_points,evaluation_points\n",
    "    ir,cr = [],[]\n",
    "    for start,end in zip(cp[1:-2],cp[2:-1]):\n",
    "        idx = np.where((ep >= start )*(ep < end))\n",
    "        ir.append(idx)\n",
    "        cr.append( ep[ idx ] )\n",
    "    return ir,cr\n",
    "    \n",
    "SplitSpaceByControlPoints(ct,et)\n",
    "\n"
   ]
  },
  {
   "cell_type": "code",
   "execution_count": null,
   "metadata": {},
   "outputs": [],
   "source": []
  },
  {
   "cell_type": "code",
   "execution_count": 2,
   "metadata": {},
   "outputs": [],
   "source": [
    "def CentripetalCatmullRomChain(controlPoints,evaluateAt):\n",
    "    \"\"\"\n",
    "        controlPoints (n,2) x,y coordinates of x-sorted controlPoints\n",
    "    \"\"\"\n",
    "    pass"
   ]
  },
  {
   "cell_type": "code",
   "execution_count": null,
   "metadata": {},
   "outputs": [],
   "source": []
  },
  {
   "cell_type": "code",
   "execution_count": 157,
   "metadata": {},
   "outputs": [
    {
     "name": "stdout",
     "output_type": "stream",
     "text": [
      "[ 5.  6.  7. 13.]\n"
     ]
    },
    {
     "name": "stderr",
     "output_type": "stream",
     "text": [
      "Only 100 samples in chain.\n",
      "Auto-assigning NUTS sampler...\n",
      "Initializing NUTS using advi+adapt_diag...\n"
     ]
    },
    {
     "data": {
      "text/html": [
       "\n",
       "    <div>\n",
       "        <style>\n",
       "            /* Turns off some styling */\n",
       "            progress {\n",
       "                /* gets rid of default border in Firefox and Opera. */\n",
       "                border: none;\n",
       "                /* Needs to be in here for Safari polyfill so background images work as expected. */\n",
       "                background-size: auto;\n",
       "            }\n",
       "            .progress-bar-interrupted, .progress-bar-interrupted::-webkit-progress-bar {\n",
       "                background: #F44336;\n",
       "            }\n",
       "        </style>\n",
       "      <progress value='2718' class='' max='200000' style='width:300px; height:20px; vertical-align: middle;'></progress>\n",
       "      1.36% [2718/200000 00:00<00:10 Average Loss = 0.14054]\n",
       "    </div>\n",
       "    "
      ],
      "text/plain": [
       "<IPython.core.display.HTML object>"
      ]
     },
     "metadata": {},
     "output_type": "display_data"
    },
    {
     "name": "stderr",
     "output_type": "stream",
     "text": [
      "Convergence achieved at 3500\n",
      "Interrupted at 3,499 [1%]: Average Loss = 0.28886\n",
      "Multiprocess sampling (2 chains in 2 jobs)\n",
      "NUTS: [vl_var]\n"
     ]
    },
    {
     "data": {
      "text/html": [
       "\n",
       "    <div>\n",
       "        <style>\n",
       "            /* Turns off some styling */\n",
       "            progress {\n",
       "                /* gets rid of default border in Firefox and Opera. */\n",
       "                border: none;\n",
       "                /* Needs to be in here for Safari polyfill so background images work as expected. */\n",
       "                background-size: auto;\n",
       "            }\n",
       "            .progress-bar-interrupted, .progress-bar-interrupted::-webkit-progress-bar {\n",
       "                background: #F44336;\n",
       "            }\n",
       "        </style>\n",
       "      <progress value='400' class='' max='400' style='width:300px; height:20px; vertical-align: middle;'></progress>\n",
       "      100.00% [400/400 00:01<00:00 Sampling 2 chains, 0 divergences]\n",
       "    </div>\n",
       "    "
      ],
      "text/plain": [
       "<IPython.core.display.HTML object>"
      ]
     },
     "metadata": {},
     "output_type": "display_data"
    },
    {
     "name": "stderr",
     "output_type": "stream",
     "text": [
      "Sampling 2 chains for 100 tune and 100 draw iterations (200 + 200 draws total) took 6 seconds.\n"
     ]
    }
   ],
   "source": [
    "\n",
    "cpp = tt.cast([5,6,7,13],\"float32\")\n",
    "space = np.linspace(6,7,32)\n",
    "\n",
    "print(cpp.eval())\n",
    "with pm.Model() as model:\n",
    "    v = pm.Normal(name=\"vl_var\",shape=(4,2))\n",
    "\n",
    "    \n",
    "    t = SplineFromPositionsAndValues(v,cpp,space)\n",
    "    pm.Deterministic(\"sum\",t)\n",
    "    \n",
    "    trace = pm.sample(init=\"advi+adapt_diag\",return_inferencedata=True,tune=100,draws=100,cores=2,chains=2)"
   ]
  },
  {
   "cell_type": "code",
   "execution_count": 154,
   "metadata": {},
   "outputs": [
    {
     "data": {
      "text/html": [
       "<pre>&lt;xarray.DataArray &#x27;sum&#x27; (sum_dim_0: 2, sum_dim_1: 32)&gt;\n",
       "array([[1.40771951, 1.39736876, 1.38404317, 1.3679172 , 1.34916529,\n",
       "        1.32796192, 1.30448155, 1.27889862, 1.25138761, 1.22212297,\n",
       "        1.19127916, 1.15903064, 1.12555187, 1.09101731, 1.05560142,\n",
       "        1.01947866, 0.98282348, 0.94581035, 0.90861373, 0.87140808,\n",
       "        0.83436785, 0.79766751, 0.76148152, 0.72598432, 0.6913504 ,\n",
       "        0.65775419, 0.62537017, 0.5943728 , 0.56493652, 0.53723581,\n",
       "        0.51144512, 0.48773891],\n",
       "       [0.65310466, 0.67091437, 0.68785703, 0.70397091, 0.71929432,\n",
       "        0.73386557, 0.74772294, 0.76090474, 0.77344927, 0.78539482,\n",
       "        0.7967797 , 0.80764219, 0.81802061, 0.82795324, 0.83747839,\n",
       "        0.84663436, 0.85545944, 0.86399193, 0.87227014, 0.88033235,\n",
       "        0.88821687, 0.895962  , 0.90360604, 0.91118728, 0.91874402,\n",
       "        0.92631456, 0.93393721, 0.94165025, 0.94949199, 0.95750072,\n",
       "        0.96571475, 0.97417237]])\n",
       "Coordinates:\n",
       "    chain      int64 0\n",
       "    draw       int64 0\n",
       "  * sum_dim_0  (sum_dim_0) int64 0 1\n",
       "  * sum_dim_1  (sum_dim_1) int64 0 1 2 3 4 5 6 7 8 ... 24 25 26 27 28 29 30 31</pre>"
      ],
      "text/plain": [
       "<xarray.DataArray 'sum' (sum_dim_0: 2, sum_dim_1: 32)>\n",
       "array([[1.40771951, 1.39736876, 1.38404317, 1.3679172 , 1.34916529,\n",
       "        1.32796192, 1.30448155, 1.27889862, 1.25138761, 1.22212297,\n",
       "        1.19127916, 1.15903064, 1.12555187, 1.09101731, 1.05560142,\n",
       "        1.01947866, 0.98282348, 0.94581035, 0.90861373, 0.87140808,\n",
       "        0.83436785, 0.79766751, 0.76148152, 0.72598432, 0.6913504 ,\n",
       "        0.65775419, 0.62537017, 0.5943728 , 0.56493652, 0.53723581,\n",
       "        0.51144512, 0.48773891],\n",
       "       [0.65310466, 0.67091437, 0.68785703, 0.70397091, 0.71929432,\n",
       "        0.73386557, 0.74772294, 0.76090474, 0.77344927, 0.78539482,\n",
       "        0.7967797 , 0.80764219, 0.81802061, 0.82795324, 0.83747839,\n",
       "        0.84663436, 0.85545944, 0.86399193, 0.87227014, 0.88033235,\n",
       "        0.88821687, 0.895962  , 0.90360604, 0.91118728, 0.91874402,\n",
       "        0.92631456, 0.93393721, 0.94165025, 0.94949199, 0.95750072,\n",
       "        0.96571475, 0.97417237]])\n",
       "Coordinates:\n",
       "    chain      int64 0\n",
       "    draw       int64 0\n",
       "  * sum_dim_0  (sum_dim_0) int64 0 1\n",
       "  * sum_dim_1  (sum_dim_1) int64 0 1 2 3 4 5 6 7 8 ... 24 25 26 27 28 29 30 31"
      ]
     },
     "execution_count": 154,
     "metadata": {},
     "output_type": "execute_result"
    }
   ],
   "source": [
    "trace.posterior[\"sum\"][0][0]"
   ]
  },
  {
   "cell_type": "code",
   "execution_count": null,
   "metadata": {},
   "outputs": [],
   "source": []
  }
 ],
 "metadata": {
  "kernelspec": {
   "display_name": "Python 3",
   "language": "python",
   "name": "python3"
  },
  "language_info": {
   "codemirror_mode": {
    "name": "ipython",
    "version": 3
   },
   "file_extension": ".py",
   "mimetype": "text/x-python",
   "name": "python",
   "nbconvert_exporter": "python",
   "pygments_lexer": "ipython3",
   "version": "3.7.9"
  }
 },
 "nbformat": 4,
 "nbformat_minor": 4
}
