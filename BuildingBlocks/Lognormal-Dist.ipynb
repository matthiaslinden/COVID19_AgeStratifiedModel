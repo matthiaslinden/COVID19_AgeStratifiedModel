{
 "cells": [
  {
   "cell_type": "code",
   "execution_count": 1,
   "id": "ideal-numbers",
   "metadata": {},
   "outputs": [],
   "source": [
    "import numpy as np\n",
    "import xarray as xr\n",
    "import pickle\n",
    "import pandas as pd\n",
    "import time\n",
    "import os\n",
    "\n",
    "from collections import OrderedDict\n",
    "\n",
    "import datetime\n",
    "from sys import getsizeof,path\n",
    "\n",
    "import matplotlib.pyplot as plt\n",
    "import matplotlib\n",
    "\n",
    "path.append(\"../src\")\n",
    "from Splines import CentripetalCatmullRomSpline_splitControls,Spline\n",
    "import Cases\n",
    "from Population import ImportPopulation\n",
    "from ModelParams import ObservedData,ModelParam\n",
    "\n",
    "import pymc3 as pm\n",
    "import theano\n",
    "import theano.tensor as tt\n",
    "\n",
    "\n",
    "theano.config.gcc_cxxflags = \"-Wno-c++11-narrowing\"\n",
    "\n",
    "import arviz as az"
   ]
  },
  {
   "cell_type": "code",
   "execution_count": 2,
   "id": "working-supplement",
   "metadata": {},
   "outputs": [],
   "source": [
    "def tt_lognormal_approx(x, mu, sigma):\n",
    "# Limit to prevent NANs\n",
    "    x = tt.clip(x-.5,1e-9,1e12)\n",
    "    mu = tt.clip(mu,1e-12,1e12)\n",
    "    sigma = tt.clip(sigma,1e-9,1e12)\n",
    "    \n",
    "    distr = 1/x * tt.exp( -( (tt.log(x) - mu) ** 2) / (2 * sigma ** 2))\n",
    "    return distr / (tt.sum(distr, axis=-1) + 1e-12)\n"
   ]
  },
  {
   "cell_type": "code",
   "execution_count": 3,
   "id": "detected-research",
   "metadata": {},
   "outputs": [
    {
     "data": {
      "text/plain": [
       "[<matplotlib.lines.Line2D at 0x131fbd400>]"
      ]
     },
     "execution_count": 3,
     "metadata": {},
     "output_type": "execute_result"
    },
    {
     "data": {
      "image/png": "[encoded data removed]",
      "text/plain": [
       "<Figure size 432x288 with 1 Axes>"
      ]
     },
     "metadata": {
      "needs_background": "light"
     },
     "output_type": "display_data"
    }
   ],
   "source": [
    "x = tt.shape_padleft(tt.cast(np.arange(0,16.),\"float64\"),1)\n",
    "mu = tt.log(4.2)\n",
    "sigma = .4\n",
    "plt.plot(tt_lognormal_approx(x,mu,sigma).eval()[0])"
   ]
  },
  {
   "cell_type": "code",
   "execution_count": 4,
   "id": "prepared-participation",
   "metadata": {},
   "outputs": [],
   "source": [
    "def tt_lognormal(x, mu, sigma):\n",
    "    x = tt.clip(x,1e-12,1e12)\n",
    "    mu = tt.clip(mu,1e-12,1e12)\n",
    "    sigma = tt.clip(sigma,1e-9,1e12)\n",
    "    \n",
    "    distr = .5 * (1+tt.erf((tt.log(x)-mu)/(tt.sqrt(2.)*sigma)))\n",
    "    zero = tt.shape_padright(tt.zeros_like(distr[...,-1]),1)\n",
    "    residual_tail = 1.-distr[...,-1]\n",
    "    return tt.concatenate([zero,distr[...,1:]-distr[...,:-1]],axis=-1)#, 1.-distr[...,-1]\n",
    "    "
   ]
  },
  {
   "cell_type": "code",
   "execution_count": 6,
   "id": "wanted-peeing",
   "metadata": {
    "scrolled": false
   },
   "outputs": [
    {
     "data": {
      "text/plain": [
       "array([[0.00000000e+00, 1.66796634e-04, 3.16425000e-02, 1.68314085e-01,\n",
       "        2.51335864e-01, 2.17080117e-01, 1.45180376e-01, 8.54904489e-02,\n",
       "        4.71882422e-02, 2.52342856e-02, 1.33165052e-02, 7.00928687e-03,\n",
       "        3.70338297e-03, 1.97158459e-03, 1.05999415e-03, 5.76266854e-04]])"
      ]
     },
     "execution_count": 6,
     "metadata": {},
     "output_type": "execute_result"
    }
   ],
   "source": [
    "tt_lognormal(x,mu,sigma).eval()"
   ]
  },
  {
   "cell_type": "code",
   "execution_count": 7,
   "id": "complete-recycling",
   "metadata": {},
   "outputs": [
    {
     "data": {
      "text/plain": [
       "[<matplotlib.lines.Line2D at 0x1324c79a0>]"
      ]
     },
     "execution_count": 7,
     "metadata": {},
     "output_type": "execute_result"
    },
    {
     "data": {
      "image/png": "[encoded data removed]",
      "text/plain": [
       "<Figure size 432x288 with 1 Axes>"
      ]
     },
     "metadata": {
      "needs_background": "light"
     },
     "output_type": "display_data"
    }
   ],
   "source": [
    "plt.plot(tt_lognormal_approx(x,mu,sigma).eval()[0],\"tab:red\")\n",
    "plt.plot(tt_lognormal(x,mu,sigma)[0].eval()[0],\"tab:blue\")"
   ]
  },
  {
   "cell_type": "code",
   "execution_count": 8,
   "id": "atmospheric-nation",
   "metadata": {
    "scrolled": false
   },
   "outputs": [
    {
     "name": "stdout",
     "output_type": "stream",
     "text": [
      "0.9999999999990017\n",
      "0.9992697361989368\n"
     ]
    }
   ],
   "source": [
    "print(tt.sum(tt_lognormal_approx(x,mu,sigma),axis=-1).eval()[0])\n",
    "print(tt.sum(tt_lognormal(x,mu,sigma)).eval())\n",
    "#print(tt_lognormal2(x,mu,sigma)[1].eval())"
   ]
  },
  {
   "cell_type": "code",
   "execution_count": null,
   "id": "appreciated-desktop",
   "metadata": {},
   "outputs": [],
   "source": []
  }
 ],
 "metadata": {
  "kernelspec": {
   "display_name": "Python 3",
   "language": "python",
   "name": "python3"
  },
  "language_info": {
   "codemirror_mode": {
    "name": "ipython",
    "version": 3
   },
   "file_extension": ".py",
   "mimetype": "text/x-python",
   "name": "python",
   "nbconvert_exporter": "python",
   "pygments_lexer": "ipython3",
   "version": "3.9.6"
  }
 },
 "nbformat": 4,
 "nbformat_minor": 5
}
