{
 "cells": [
  {
   "cell_type": "code",
   "execution_count": null,
   "id": "4de886a0",
   "metadata": {},
   "outputs": [],
   "source": [
    "import numpy as np\n",
    "import xarray as xr\n",
    "import pickle\n",
    "import pandas as pd\n",
    "import time\n",
    "import os\n",
    "\n",
    "import datetime\n",
    "from sys import getsizeof,path\n",
    "\n",
    "\n",
    "import matplotlib.pyplot as plt\n",
    "import matplotlib\n",
    "\n",
    "import theano\n",
    "import theano.tensor as tt\n",
    "import pymc3 as pm\n",
    "theano.config.optimizer=\"fast_run\""
   ]
  },
  {
   "cell_type": "code",
   "execution_count": null,
   "id": "b71fc019",
   "metadata": {},
   "outputs": [],
   "source": [
    "class TimeSplitLoop(object):\n",
    "    def __init__(self,major=None,minor=None,scaling=7,other_dims=0):\n",
    "        if major == None:\n",
    "            major = (3,52)\n",
    "        if minor == None:\n",
    "            minor = (3,10)\n",
    "        \n",
    "        self.major = major\n",
    "        self.minor = minor\n",
    "        self.scaling = scaling\n",
    "        \n",
    "        self.other_dims = other_dims\n",
    "        \n",
    "    def initial(self,dtype=\"float64\"):\n",
    "        shape = []\n",
    "        shape += [self.major[0]*self.scaling+self.major[1]]\n",
    "        shape += [self.minor[0]*self.scaling+self.minor[1]]\n",
    "        shape += [1]*self.other_dims\n",
    "\n",
    "        return tt.ones(shape,dtype)\n",
    "    \n",
    "    def run_fine_unrolled(self,n=10):\n",
    "        values = tt.cast([1.01]*n,\"float64\")\n",
    "        \n",
    "        def fn(value,state):\n",
    "            acc = tt.zeros(self.minor[0]*self.scaling+self.minor[1],\"float64\")\n",
    "            for i in range(self.scaling):\n",
    "                \n",
    "                # Shift fine-grained by 1, accumulate value from last fine-grained-cell \n",
    "                acc += state[self.major[0]*self.scaling-1]\n",
    "                state = tt.set_subtensor(state[1:self.major[0]*self.scaling],state[:self.major[0]*self.scaling-1])\n",
    "                state = tt.set_subtensor(state[0],state[0]*value)\n",
    "                \n",
    "            # Shift rough-grained by 1, inject fine-accumulated at the beginning.\n",
    "            state = tt.set_subtensor(state[self.major[0]*self.scaling+1:],state[self.major[0]*self.scaling:-1])\n",
    "            state = tt.set_subtensor(state[self.major[0]*self.scaling],acc)\n",
    "\n",
    "            #            state = tt.set_subtensor(state[self.major[0]*self.scaling],tt.sum(state[(self.major[0]-1)*self.scaling:self.major[0]*self.scaling],axis=0))\n",
    "            return state\n",
    "        \n",
    "        states,end = theano.scan(fn,outputs_info=[self.initial()],sequences=[values])\n",
    "                \n",
    "        return states\n",
    "        "
   ]
  },
  {
   "cell_type": "code",
   "execution_count": null,
   "id": "32c8bead",
   "metadata": {
    "scrolled": false
   },
   "outputs": [],
   "source": [
    "tsl = TimeSplitLoop((2,6,),(2,4,))\n",
    "\n",
    "print(tsl.initial().eval().shape)\n",
    "\n",
    "\n",
    "t0 = time.time()\n",
    "result = tsl.run_fine_unrolled()\n",
    "states = result[-1].eval()\n",
    "t1 = time.time()\n",
    "\n",
    "print(t1-t0)\n",
    "\n",
    "#print(states)\n",
    "\n",
    "theano.printing.debugprint(result)\n",
    "theano.printing.debugprint(states)"
   ]
  },
  {
   "cell_type": "code",
   "execution_count": null,
   "id": "bc304bf3",
   "metadata": {},
   "outputs": [],
   "source": []
  },
  {
   "cell_type": "code",
   "execution_count": null,
   "id": "fe7ba033",
   "metadata": {},
   "outputs": [],
   "source": []
  }
 ],
 "metadata": {
  "kernelspec": {
   "display_name": "Python 3 (ipykernel)",
   "language": "python",
   "name": "python3"
  },
  "language_info": {
   "codemirror_mode": {
    "name": "ipython",
    "version": 3
   },
   "file_extension": ".py",
   "mimetype": "text/x-python",
   "name": "python",
   "nbconvert_exporter": "python",
   "pygments_lexer": "ipython3",
   "version": "3.9.7"
  }
 },
 "nbformat": 4,
 "nbformat_minor": 5
}
