{
 "cells": [
  {
   "cell_type": "code",
   "execution_count": 1,
   "id": "coral-tactics",
   "metadata": {},
   "outputs": [],
   "source": [
    "import numpy as np\n",
    "import xarray as xr\n",
    "import pickle\n",
    "import pandas as pd\n",
    "import time\n",
    "import os\n",
    "\n",
    "import datetime\n",
    "from sys import getsizeof,path\n",
    "\n",
    "import matplotlib.pyplot as plt\n",
    "import matplotlib\n",
    "\n",
    "path.append(\"../src\")\n",
    "from Splines import CentripetalCatmullRomSpline_splitControls,Spline\n",
    "\n",
    "import pymc3\n",
    "import theano\n",
    "import theano.tensor as tt\n",
    "\n",
    "\n",
    "#theano.config.gcc_cxxflags = \"-Wno-c++11-narrowing\"\n"
   ]
  },
  {
   "cell_type": "code",
   "execution_count": null,
   "id": "suited-butterfly",
   "metadata": {},
   "outputs": [],
   "source": []
  },
  {
   "cell_type": "code",
   "execution_count": null,
   "id": "innovative-regulation",
   "metadata": {
    "scrolled": false
   },
   "outputs": [],
   "source": [
    "cpx = np.array([2,4,6,8,12,13],\"float64\")\n",
    "cpy1 = np.array([1,2,2,3,1,2],\"float64\")\n",
    "cpy2 = np.array([2,3,4,2,5,6],\"float64\")\n",
    "cpy3 = np.array([4,3,4,-3,-4,-3.5],dtype=\"float64\")\n",
    "\n",
    "cpx = np.array(cpx)\n",
    "cpy = tt.stack([cpy1,cpy2,cpy3])\n",
    "\n",
    "space = np.linspace(1,10,64,\"float64\")\n",
    "\n",
    "#print(cpx)\n",
    "#print(cpy.eval())\n",
    "#print(space,space.dtype)\n",
    "\n",
    "s1 = Spline(cpx,cpy)\n",
    "c = s1.EvaluateAt(space,True)\n",
    "\n",
    "#print(c.eval())"
   ]
  },
  {
   "cell_type": "code",
   "execution_count": null,
   "id": "found-connectivity",
   "metadata": {},
   "outputs": [],
   "source": [
    "print(s1.cpx)"
   ]
  },
  {
   "cell_type": "code",
   "execution_count": null,
   "id": "collective-durham",
   "metadata": {},
   "outputs": [],
   "source": [
    "plt.plot(space,c.eval())"
   ]
  },
  {
   "cell_type": "code",
   "execution_count": null,
   "id": "figured-domestic",
   "metadata": {},
   "outputs": [],
   "source": [
    "cpx = np.array([1,2,3,4],\"float64\")\n",
    "cpy1 = np.array([1,1,2,2],\"float64\")\n",
    "cpy2 = np.array([3,3,3,0.8],\"float64\")\n",
    "#cpy2 = np.array([1,3000000,-3000000,-1,300000],\"float64\")\n",
    "#cpy3 = np.array([4,3,4,-3,-4,-3.5],dtype=\"float64\")\n",
    "\n",
    "cpx = np.array(cpx)\n",
    "cpy_r1 = tt.cast(cpy1.reshape((1,cpy1.shape[0])),\"float64\")\n",
    "cpy_r2 = tt.stack([cpy1,cpy2])\n",
    "\n",
    "space = np.linspace(1.5,3.75,64,\"float64\")\n",
    "\n",
    "print(cpx)\n",
    "print(space,space.dtype)\n",
    "\n",
    "\n",
    "s1 = Spline(cpx,cpy_r1)\n",
    "s2 = Spline(cpx,cpy_r2)\n",
    "c1 = s1.EvaluateAt(space,True)\n",
    "c2 = s2.EvaluateAt(space,True)\n",
    "\n",
    "plt.plot(space,c1.eval())\n",
    "plt.plot(space,c2.eval()[:,0],\"--\")\n",
    "\n",
    "\n",
    "#print(c.eval())"
   ]
  },
  {
   "cell_type": "code",
   "execution_count": null,
   "id": "industrial-adams",
   "metadata": {},
   "outputs": [],
   "source": [
    "print(c2.eval())"
   ]
  },
  {
   "cell_type": "code",
   "execution_count": null,
   "id": "macro-salon",
   "metadata": {},
   "outputs": [],
   "source": [
    "plt.plot(space,c2.eval()[:,1])"
   ]
  },
  {
   "cell_type": "code",
   "execution_count": 2,
   "id": "ignored-collection",
   "metadata": {},
   "outputs": [
    {
     "name": "stdout",
     "output_type": "stream",
     "text": [
      "2020-01-31 00:00:00\n",
      "Shape.0\n",
      "DatetimeIndex(['2020-01-31', '2020-02-29', '2020-03-31', '2020-04-30',\n",
      "               '2020-05-31', '2020-06-30', '2020-07-31', '2020-08-31',\n",
      "               '2020-09-30', '2020-10-31', '2020-11-30', '2020-12-31'],\n",
      "              dtype='datetime64[ns]', freq='M')\n"
     ]
    },
    {
     "data": {
      "text/plain": [
       "[<matplotlib.lines.Line2D at 0x13882ad50>]"
      ]
     },
     "execution_count": 2,
     "metadata": {},
     "output_type": "execute_result"
    },
    {
     "data": {
      "image/png": "[encoded data removed]",
      "text/plain": [
       "<Figure size 432x288 with 1 Axes>"
      ]
     },
     "metadata": {
      "needs_background": "light"
     },
     "output_type": "display_data"
    }
   ],
   "source": [
    "start,end = datetime.datetime(2020,1,1),datetime.datetime(2020,12,31)\n",
    "dr1 = pd.date_range(start,end,freq='M')\n",
    "dr2 = pd.date_range(start,end,freq='D')\n",
    "\n",
    "\n",
    "y = tt.cast(np.array([3,3,2.8,1.3,.8,.9,.9,1.1,1.2,1.1,1,1.2],\"float64\").reshape(1,12),\"float64\")\n",
    "\n",
    "s1 = Spline(dr1,y)\n",
    "print(s1.ref)\n",
    "v = s1.EvaluateAt(dr2).eval()\n",
    "\n",
    "print(y.shape)\n",
    "\n",
    "print(dr1)\n",
    "\n",
    "plt.plot(dr2,v)\n",
    "\n",
    "#cpx = np.array([],\"float64\")\n",
    "#cpy1 = np.array([1,1,2,2],\"float64\")\n",
    "#cpy2 = np.array([1,30,-30,-1],\"float64\")\n",
    "#cpy3 = np.array([4,3,4,-3,-4,-3.5],dtype=\"float64\")\n",
    "\n",
    "#cpx = np.array(cpx)\n",
    "#cpy_r1 = tt.cast(cpy1.reshape((1,cpy1.shape[0])),\"float64\")\n",
    "#cpy_r2 = tt.stack([cpy1,cpy2])\n",
    "\n",
    "#space = np.linspace(1.5,3.5,32,\"float64\")\n",
    "\n",
    "#print(cpx)\n",
    "#print(space,space.dtype)\n",
    "\n",
    "\n",
    "#s1 = Spline(cpx,cpy_r1)\n",
    "#s2 = Spline(cpx,cpy_r2)\n",
    "#c1 = s1.EvaluateAt(space,True)\n",
    "#c2 = s2.EvaluateAt(space,True)\n",
    "\n",
    "#plt.plot(space,c1.eval())\n",
    "#plt.plot(space,c2.eval()[:,0])\n",
    "\n",
    "\n",
    "#print(c.eval())"
   ]
  },
  {
   "cell_type": "code",
   "execution_count": null,
   "id": "least-runner",
   "metadata": {},
   "outputs": [],
   "source": []
  }
 ],
 "metadata": {
  "kernelspec": {
   "display_name": "Python 3",
   "language": "python",
   "name": "python3"
  },
  "language_info": {
   "codemirror_mode": {
    "name": "ipython",
    "version": 3
   },
   "file_extension": ".py",
   "mimetype": "text/x-python",
   "name": "python",
   "nbconvert_exporter": "python",
   "pygments_lexer": "ipython3",
   "version": "3.7.11"
  }
 },
 "nbformat": 4,
 "nbformat_minor": 5
}
